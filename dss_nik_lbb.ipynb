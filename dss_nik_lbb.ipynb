{
 "cells": [
  {
   "cell_type": "markdown",
   "metadata": {},
   "source": [
    "# Import Library"
   ]
  },
  {
   "cell_type": "code",
   "execution_count": 1,
   "metadata": {},
   "outputs": [],
   "source": [
    "import pandas as pd\n",
    "import plotly.express as px\n",
    "import streamlit as st\n",
    "import numpy as np"
   ]
  },
  {
   "cell_type": "markdown",
   "metadata": {},
   "source": [
    "# Read Data"
   ]
  },
  {
   "cell_type": "code",
   "execution_count": 2,
   "metadata": {},
   "outputs": [
    {
     "data": {
      "text/html": [
       "<div>\n",
       "<style scoped>\n",
       "    .dataframe tbody tr th:only-of-type {\n",
       "        vertical-align: middle;\n",
       "    }\n",
       "\n",
       "    .dataframe tbody tr th {\n",
       "        vertical-align: top;\n",
       "    }\n",
       "\n",
       "    .dataframe thead th {\n",
       "        text-align: right;\n",
       "    }\n",
       "</style>\n",
       "<table border=\"1\" class=\"dataframe\">\n",
       "  <thead>\n",
       "    <tr style=\"text-align: right;\">\n",
       "      <th></th>\n",
       "      <th>CustomerID</th>\n",
       "      <th>NIK</th>\n",
       "      <th>Annual_Income</th>\n",
       "      <th>Spending_Score</th>\n",
       "      <th>Profession</th>\n",
       "      <th>Work_Experience</th>\n",
       "      <th>Family_Size</th>\n",
       "    </tr>\n",
       "  </thead>\n",
       "  <tbody>\n",
       "    <tr>\n",
       "      <th>0</th>\n",
       "      <td>1</td>\n",
       "      <td>5203172209040014</td>\n",
       "      <td>15000000</td>\n",
       "      <td>39</td>\n",
       "      <td>Healthcare</td>\n",
       "      <td>1</td>\n",
       "      <td>4</td>\n",
       "    </tr>\n",
       "    <tr>\n",
       "      <th>1</th>\n",
       "      <td>2</td>\n",
       "      <td>1705032211020016</td>\n",
       "      <td>35000000</td>\n",
       "      <td>81</td>\n",
       "      <td>Engineer</td>\n",
       "      <td>3</td>\n",
       "      <td>3</td>\n",
       "    </tr>\n",
       "    <tr>\n",
       "      <th>2</th>\n",
       "      <td>3</td>\n",
       "      <td>7606055105030001</td>\n",
       "      <td>86000000</td>\n",
       "      <td>6</td>\n",
       "      <td>Engineer</td>\n",
       "      <td>1</td>\n",
       "      <td>1</td>\n",
       "    </tr>\n",
       "    <tr>\n",
       "      <th>3</th>\n",
       "      <td>4</td>\n",
       "      <td>7317074601000015</td>\n",
       "      <td>59000000</td>\n",
       "      <td>77</td>\n",
       "      <td>Lawyer</td>\n",
       "      <td>0</td>\n",
       "      <td>2</td>\n",
       "    </tr>\n",
       "    <tr>\n",
       "      <th>4</th>\n",
       "      <td>5</td>\n",
       "      <td>3215114911920008</td>\n",
       "      <td>38000000</td>\n",
       "      <td>40</td>\n",
       "      <td>Entertainment</td>\n",
       "      <td>2</td>\n",
       "      <td>6</td>\n",
       "    </tr>\n",
       "    <tr>\n",
       "      <th>...</th>\n",
       "      <td>...</td>\n",
       "      <td>...</td>\n",
       "      <td>...</td>\n",
       "      <td>...</td>\n",
       "      <td>...</td>\n",
       "      <td>...</td>\n",
       "      <td>...</td>\n",
       "    </tr>\n",
       "    <tr>\n",
       "      <th>1102</th>\n",
       "      <td>1989</td>\n",
       "      <td>1309107105690005</td>\n",
       "      <td>118944000</td>\n",
       "      <td>77</td>\n",
       "      <td>Artist</td>\n",
       "      <td>4</td>\n",
       "      <td>4</td>\n",
       "    </tr>\n",
       "    <tr>\n",
       "      <th>1103</th>\n",
       "      <td>1990</td>\n",
       "      <td>1808105401760019</td>\n",
       "      <td>75293000</td>\n",
       "      <td>55</td>\n",
       "      <td>Doctor</td>\n",
       "      <td>6</td>\n",
       "      <td>7</td>\n",
       "    </tr>\n",
       "    <tr>\n",
       "      <th>1104</th>\n",
       "      <td>1991</td>\n",
       "      <td>1604226904930019</td>\n",
       "      <td>166983000</td>\n",
       "      <td>69</td>\n",
       "      <td>Artist</td>\n",
       "      <td>7</td>\n",
       "      <td>3</td>\n",
       "    </tr>\n",
       "    <tr>\n",
       "      <th>1105</th>\n",
       "      <td>1994</td>\n",
       "      <td>1602144104590017</td>\n",
       "      <td>175254000</td>\n",
       "      <td>100</td>\n",
       "      <td>Artist</td>\n",
       "      <td>9</td>\n",
       "      <td>5</td>\n",
       "    </tr>\n",
       "    <tr>\n",
       "      <th>1106</th>\n",
       "      <td>1995</td>\n",
       "      <td>1401105003040006</td>\n",
       "      <td>54121000</td>\n",
       "      <td>89</td>\n",
       "      <td>Engineer</td>\n",
       "      <td>6</td>\n",
       "      <td>3</td>\n",
       "    </tr>\n",
       "  </tbody>\n",
       "</table>\n",
       "<p>1107 rows × 7 columns</p>\n",
       "</div>"
      ],
      "text/plain": [
       "      CustomerID               NIK  Annual_Income  Spending_Score  \\\n",
       "0              1  5203172209040014       15000000              39   \n",
       "1              2  1705032211020016       35000000              81   \n",
       "2              3  7606055105030001       86000000               6   \n",
       "3              4  7317074601000015       59000000              77   \n",
       "4              5  3215114911920008       38000000              40   \n",
       "...          ...               ...            ...             ...   \n",
       "1102        1989  1309107105690005      118944000              77   \n",
       "1103        1990  1808105401760019       75293000              55   \n",
       "1104        1991  1604226904930019      166983000              69   \n",
       "1105        1994  1602144104590017      175254000             100   \n",
       "1106        1995  1401105003040006       54121000              89   \n",
       "\n",
       "         Profession  Work_Experience  Family_Size  \n",
       "0        Healthcare                1            4  \n",
       "1          Engineer                3            3  \n",
       "2          Engineer                1            1  \n",
       "3            Lawyer                0            2  \n",
       "4     Entertainment                2            6  \n",
       "...             ...              ...          ...  \n",
       "1102         Artist                4            4  \n",
       "1103         Doctor                6            7  \n",
       "1104         Artist                7            3  \n",
       "1105         Artist                9            5  \n",
       "1106       Engineer                6            3  \n",
       "\n",
       "[1107 rows x 7 columns]"
      ]
     },
     "execution_count": 2,
     "metadata": {},
     "output_type": "execute_result"
    }
   ],
   "source": [
    "# read data\n",
    "customer = pd.read_csv('data/customer_all.csv')\n",
    "customer"
   ]
  },
  {
   "cell_type": "markdown",
   "metadata": {},
   "source": [
    "# Data Inspection"
   ]
  },
  {
   "cell_type": "code",
   "execution_count": 3,
   "metadata": {},
   "outputs": [
    {
     "data": {
      "text/html": [
       "<div>\n",
       "<style scoped>\n",
       "    .dataframe tbody tr th:only-of-type {\n",
       "        vertical-align: middle;\n",
       "    }\n",
       "\n",
       "    .dataframe tbody tr th {\n",
       "        vertical-align: top;\n",
       "    }\n",
       "\n",
       "    .dataframe thead th {\n",
       "        text-align: right;\n",
       "    }\n",
       "</style>\n",
       "<table border=\"1\" class=\"dataframe\">\n",
       "  <thead>\n",
       "    <tr style=\"text-align: right;\">\n",
       "      <th></th>\n",
       "      <th>CustomerID</th>\n",
       "      <th>NIK</th>\n",
       "      <th>Annual_Income</th>\n",
       "      <th>Spending_Score</th>\n",
       "      <th>Profession</th>\n",
       "      <th>Work_Experience</th>\n",
       "      <th>Family_Size</th>\n",
       "    </tr>\n",
       "  </thead>\n",
       "  <tbody>\n",
       "    <tr>\n",
       "      <th>0</th>\n",
       "      <td>1</td>\n",
       "      <td>5203172209040014</td>\n",
       "      <td>15000000</td>\n",
       "      <td>39</td>\n",
       "      <td>Healthcare</td>\n",
       "      <td>1</td>\n",
       "      <td>4</td>\n",
       "    </tr>\n",
       "    <tr>\n",
       "      <th>1</th>\n",
       "      <td>2</td>\n",
       "      <td>1705032211020016</td>\n",
       "      <td>35000000</td>\n",
       "      <td>81</td>\n",
       "      <td>Engineer</td>\n",
       "      <td>3</td>\n",
       "      <td>3</td>\n",
       "    </tr>\n",
       "    <tr>\n",
       "      <th>2</th>\n",
       "      <td>3</td>\n",
       "      <td>7606055105030001</td>\n",
       "      <td>86000000</td>\n",
       "      <td>6</td>\n",
       "      <td>Engineer</td>\n",
       "      <td>1</td>\n",
       "      <td>1</td>\n",
       "    </tr>\n",
       "    <tr>\n",
       "      <th>3</th>\n",
       "      <td>4</td>\n",
       "      <td>7317074601000015</td>\n",
       "      <td>59000000</td>\n",
       "      <td>77</td>\n",
       "      <td>Lawyer</td>\n",
       "      <td>0</td>\n",
       "      <td>2</td>\n",
       "    </tr>\n",
       "    <tr>\n",
       "      <th>4</th>\n",
       "      <td>5</td>\n",
       "      <td>3215114911920008</td>\n",
       "      <td>38000000</td>\n",
       "      <td>40</td>\n",
       "      <td>Entertainment</td>\n",
       "      <td>2</td>\n",
       "      <td>6</td>\n",
       "    </tr>\n",
       "  </tbody>\n",
       "</table>\n",
       "</div>"
      ],
      "text/plain": [
       "   CustomerID               NIK  Annual_Income  Spending_Score     Profession  \\\n",
       "0           1  5203172209040014       15000000              39     Healthcare   \n",
       "1           2  1705032211020016       35000000              81       Engineer   \n",
       "2           3  7606055105030001       86000000               6       Engineer   \n",
       "3           4  7317074601000015       59000000              77         Lawyer   \n",
       "4           5  3215114911920008       38000000              40  Entertainment   \n",
       "\n",
       "   Work_Experience  Family_Size  \n",
       "0                1            4  \n",
       "1                3            3  \n",
       "2                1            1  \n",
       "3                0            2  \n",
       "4                2            6  "
      ]
     },
     "execution_count": 3,
     "metadata": {},
     "output_type": "execute_result"
    }
   ],
   "source": [
    "customer.head()"
   ]
  },
  {
   "cell_type": "code",
   "execution_count": 4,
   "metadata": {},
   "outputs": [
    {
     "data": {
      "text/plain": [
       "CustomerID         1107\n",
       "NIK                1107\n",
       "Annual_Income       949\n",
       "Spending_Score      100\n",
       "Profession           10\n",
       "Work_Experience      18\n",
       "Family_Size           9\n",
       "dtype: int64"
      ]
     },
     "execution_count": 4,
     "metadata": {},
     "output_type": "execute_result"
    }
   ],
   "source": [
    "customer.nunique()"
   ]
  },
  {
   "cell_type": "code",
   "execution_count": 5,
   "metadata": {},
   "outputs": [
    {
     "name": "stdout",
     "output_type": "stream",
     "text": [
      "<class 'pandas.core.frame.DataFrame'>\n",
      "RangeIndex: 1107 entries, 0 to 1106\n",
      "Data columns (total 7 columns):\n",
      " #   Column           Non-Null Count  Dtype \n",
      "---  ------           --------------  ----- \n",
      " 0   CustomerID       1107 non-null   int64 \n",
      " 1   NIK              1107 non-null   int64 \n",
      " 2   Annual_Income    1107 non-null   int64 \n",
      " 3   Spending_Score   1107 non-null   int64 \n",
      " 4   Profession       1107 non-null   object\n",
      " 5   Work_Experience  1107 non-null   int64 \n",
      " 6   Family_Size      1107 non-null   int64 \n",
      "dtypes: int64(6), object(1)\n",
      "memory usage: 60.7+ KB\n"
     ]
    }
   ],
   "source": [
    "customer.info()"
   ]
  },
  {
   "cell_type": "code",
   "execution_count": 6,
   "metadata": {},
   "outputs": [
    {
     "data": {
      "text/html": [
       "<div>\n",
       "<style scoped>\n",
       "    .dataframe tbody tr th:only-of-type {\n",
       "        vertical-align: middle;\n",
       "    }\n",
       "\n",
       "    .dataframe tbody tr th {\n",
       "        vertical-align: top;\n",
       "    }\n",
       "\n",
       "    .dataframe thead th {\n",
       "        text-align: right;\n",
       "    }\n",
       "</style>\n",
       "<table border=\"1\" class=\"dataframe\">\n",
       "  <thead>\n",
       "    <tr style=\"text-align: right;\">\n",
       "      <th></th>\n",
       "      <th>CustomerID</th>\n",
       "      <th>NIK</th>\n",
       "      <th>Annual_Income</th>\n",
       "      <th>Spending_Score</th>\n",
       "      <th>Work_Experience</th>\n",
       "      <th>Family_Size</th>\n",
       "    </tr>\n",
       "  </thead>\n",
       "  <tbody>\n",
       "    <tr>\n",
       "      <th>count</th>\n",
       "      <td>1107.000000</td>\n",
       "      <td>1.107000e+03</td>\n",
       "      <td>1.107000e+03</td>\n",
       "      <td>1107.00000</td>\n",
       "      <td>1107.000000</td>\n",
       "      <td>1107.000000</td>\n",
       "    </tr>\n",
       "    <tr>\n",
       "      <th>mean</th>\n",
       "      <td>919.416441</td>\n",
       "      <td>4.386192e+15</td>\n",
       "      <td>1.062517e+08</td>\n",
       "      <td>50.64047</td>\n",
       "      <td>3.967480</td>\n",
       "      <td>3.645890</td>\n",
       "    </tr>\n",
       "    <tr>\n",
       "      <th>std</th>\n",
       "      <td>605.895749</td>\n",
       "      <td>2.618414e+15</td>\n",
       "      <td>4.780587e+07</td>\n",
       "      <td>27.86101</td>\n",
       "      <td>3.904931</td>\n",
       "      <td>1.937353</td>\n",
       "    </tr>\n",
       "    <tr>\n",
       "      <th>min</th>\n",
       "      <td>1.000000</td>\n",
       "      <td>1.101052e+15</td>\n",
       "      <td>0.000000e+00</td>\n",
       "      <td>1.00000</td>\n",
       "      <td>0.000000</td>\n",
       "      <td>1.000000</td>\n",
       "    </tr>\n",
       "    <tr>\n",
       "      <th>25%</th>\n",
       "      <td>357.000000</td>\n",
       "      <td>1.802241e+15</td>\n",
       "      <td>6.982750e+07</td>\n",
       "      <td>27.00000</td>\n",
       "      <td>1.000000</td>\n",
       "      <td>2.000000</td>\n",
       "    </tr>\n",
       "    <tr>\n",
       "      <th>50%</th>\n",
       "      <td>905.000000</td>\n",
       "      <td>3.510114e+15</td>\n",
       "      <td>1.024130e+08</td>\n",
       "      <td>50.00000</td>\n",
       "      <td>3.000000</td>\n",
       "      <td>3.000000</td>\n",
       "    </tr>\n",
       "    <tr>\n",
       "      <th>75%</th>\n",
       "      <td>1440.500000</td>\n",
       "      <td>7.103154e+15</td>\n",
       "      <td>1.465350e+08</td>\n",
       "      <td>74.00000</td>\n",
       "      <td>7.000000</td>\n",
       "      <td>5.000000</td>\n",
       "    </tr>\n",
       "    <tr>\n",
       "      <th>max</th>\n",
       "      <td>1995.000000</td>\n",
       "      <td>9.271105e+15</td>\n",
       "      <td>1.899450e+08</td>\n",
       "      <td>100.00000</td>\n",
       "      <td>17.000000</td>\n",
       "      <td>9.000000</td>\n",
       "    </tr>\n",
       "  </tbody>\n",
       "</table>\n",
       "</div>"
      ],
      "text/plain": [
       "        CustomerID           NIK  Annual_Income  Spending_Score  \\\n",
       "count  1107.000000  1.107000e+03   1.107000e+03      1107.00000   \n",
       "mean    919.416441  4.386192e+15   1.062517e+08        50.64047   \n",
       "std     605.895749  2.618414e+15   4.780587e+07        27.86101   \n",
       "min       1.000000  1.101052e+15   0.000000e+00         1.00000   \n",
       "25%     357.000000  1.802241e+15   6.982750e+07        27.00000   \n",
       "50%     905.000000  3.510114e+15   1.024130e+08        50.00000   \n",
       "75%    1440.500000  7.103154e+15   1.465350e+08        74.00000   \n",
       "max    1995.000000  9.271105e+15   1.899450e+08       100.00000   \n",
       "\n",
       "       Work_Experience  Family_Size  \n",
       "count      1107.000000  1107.000000  \n",
       "mean          3.967480     3.645890  \n",
       "std           3.904931     1.937353  \n",
       "min           0.000000     1.000000  \n",
       "25%           1.000000     2.000000  \n",
       "50%           3.000000     3.000000  \n",
       "75%           7.000000     5.000000  \n",
       "max          17.000000     9.000000  "
      ]
     },
     "execution_count": 6,
     "metadata": {},
     "output_type": "execute_result"
    }
   ],
   "source": [
    "customer.describe()"
   ]
  },
  {
   "cell_type": "code",
   "execution_count": 7,
   "metadata": {},
   "outputs": [
    {
     "data": {
      "text/plain": [
       "array([4, 3, 1, 2, 6, 5, 8, 7, 9])"
      ]
     },
     "execution_count": 7,
     "metadata": {},
     "output_type": "execute_result"
    }
   ],
   "source": [
    "customer['Family_Size'].unique()"
   ]
  },
  {
   "cell_type": "code",
   "execution_count": 8,
   "metadata": {},
   "outputs": [
    {
     "data": {
      "text/plain": [
       "array([ 1,  3,  0,  2,  4,  9, 12, 13,  5,  8, 14,  7,  6, 10, 11, 15, 16,\n",
       "       17])"
      ]
     },
     "execution_count": 8,
     "metadata": {},
     "output_type": "execute_result"
    }
   ],
   "source": [
    "customer['Work_Experience'].unique()"
   ]
  },
  {
   "cell_type": "code",
   "execution_count": 9,
   "metadata": {},
   "outputs": [
    {
     "data": {
      "text/plain": [
       "array(['Healthcare', 'Engineer', 'Lawyer', 'Entertainment', 'Artist',\n",
       "       'Executive', 'Doctor', 'Homemaker', 'Marketing', 'Not Employed'],\n",
       "      dtype=object)"
      ]
     },
     "execution_count": 9,
     "metadata": {},
     "output_type": "execute_result"
    }
   ],
   "source": [
    "customer['Profession'].unique()"
   ]
  },
  {
   "cell_type": "markdown",
   "metadata": {},
   "source": [
    "**Deskripsi data**:  \n",
    "\n",
    "Data `customer` merupakan data pelanggan dari suatu perusahaan\n",
    "- `CustomerID`: Nomor ID pelanggan\n",
    "- `NIK`: Nomor Induk Kependudukan pelanggan\n",
    "- `Annual_Income`: Pendapatan Tahunan pelanggan\n",
    "- `Spending_Score`: Penilaian terhadap pelanggan berdasarkan sifat kebiasaan belanja / tingkat konsumtif (rentang angka penilaian dari 1 sd 100)\n",
    "- `Profession`: Jenis profesi / bidang pekerjaan pelanggan :\n",
    "    - Healthcare\n",
    "    - Engineer\n",
    "    - Lawyer\n",
    "    - Entertainment\n",
    "    - Artist\n",
    "    - Executive\n",
    "    - Doctor\n",
    "    - Homemaker\n",
    "    - Marketing\n",
    "    - Not Employed\n",
    "- `Work_Experience`: Pengalaman kerja pelanggan (tahun) dari 0 sd 17 tahun\n",
    "- `Family_Size`: Jumlah anggota keluarga dalam satu Kartu Keluarga dari pelanggan tersebut"
   ]
  },
  {
   "cell_type": "markdown",
   "metadata": {},
   "source": [
    "## Mengganti Tipe Data"
   ]
  },
  {
   "cell_type": "code",
   "execution_count": 10,
   "metadata": {},
   "outputs": [
    {
     "data": {
      "text/plain": [
       "CustomerID          int64\n",
       "NIK                 int64\n",
       "Annual_Income       int64\n",
       "Spending_Score      int64\n",
       "Profession         object\n",
       "Work_Experience     int64\n",
       "Family_Size         int64\n",
       "dtype: object"
      ]
     },
     "execution_count": 10,
     "metadata": {},
     "output_type": "execute_result"
    }
   ],
   "source": [
    "# cek tipe data employee\n",
    "customer.dtypes"
   ]
  },
  {
   "cell_type": "markdown",
   "metadata": {},
   "source": [
    "> **Kolom category:** \n",
    "\n",
    "- Profession\n",
    "- Work_Experience\n",
    "- Family_Size\n",
    "\n",
    "> **Kolom object:** \n",
    "\n",
    "- CustomerID\n",
    "- NIK"
   ]
  },
  {
   "cell_type": "code",
   "execution_count": 11,
   "metadata": {},
   "outputs": [
    {
     "data": {
      "text/plain": [
       "CustomerID            int64\n",
       "NIK                   int64\n",
       "Annual_Income         int64\n",
       "Spending_Score        int64\n",
       "Profession         category\n",
       "Work_Experience    category\n",
       "Family_Size        category\n",
       "dtype: object"
      ]
     },
     "execution_count": 11,
     "metadata": {},
     "output_type": "execute_result"
    }
   ],
   "source": [
    "# ubah tipe data beberapa kolom\n",
    "kolom_category = ['Profession', 'Work_Experience', 'Family_Size']\n",
    "\n",
    "customer[kolom_category] = customer[kolom_category].astype('category')\n",
    "\n",
    "# cek kembali tipe data\n",
    "customer.dtypes"
   ]
  },
  {
   "cell_type": "code",
   "execution_count": 12,
   "metadata": {},
   "outputs": [
    {
     "data": {
      "text/plain": [
       "CustomerID           object\n",
       "NIK                  object\n",
       "Annual_Income         int64\n",
       "Spending_Score        int64\n",
       "Profession         category\n",
       "Work_Experience    category\n",
       "Family_Size        category\n",
       "dtype: object"
      ]
     },
     "execution_count": 12,
     "metadata": {},
     "output_type": "execute_result"
    }
   ],
   "source": [
    "# ubah tipe data ke object (EmployeeID & NIK)\n",
    "kolom_object = ['CustomerID','NIK']\n",
    "\n",
    "customer[kolom_object] = customer[kolom_object].astype('object')\n",
    "\n",
    "# cek kembali tipe data\n",
    "customer.dtypes"
   ]
  },
  {
   "cell_type": "markdown",
   "metadata": {},
   "source": [
    "Pembuatan kategori `income_level` dari kolom `Annual_Income` dibagi menjadi tiga kategori: `Low Income`, `Average Income`, dan `High Income`"
   ]
  },
  {
   "cell_type": "code",
   "execution_count": 13,
   "metadata": {},
   "outputs": [
    {
     "data": {
      "text/html": [
       "<div>\n",
       "<style scoped>\n",
       "    .dataframe tbody tr th:only-of-type {\n",
       "        vertical-align: middle;\n",
       "    }\n",
       "\n",
       "    .dataframe tbody tr th {\n",
       "        vertical-align: top;\n",
       "    }\n",
       "\n",
       "    .dataframe thead th {\n",
       "        text-align: right;\n",
       "    }\n",
       "</style>\n",
       "<table border=\"1\" class=\"dataframe\">\n",
       "  <thead>\n",
       "    <tr style=\"text-align: right;\">\n",
       "      <th></th>\n",
       "      <th>CustomerID</th>\n",
       "      <th>NIK</th>\n",
       "      <th>Annual_Income</th>\n",
       "      <th>Spending_Score</th>\n",
       "      <th>Profession</th>\n",
       "      <th>Work_Experience</th>\n",
       "      <th>Family_Size</th>\n",
       "      <th>income_level</th>\n",
       "    </tr>\n",
       "  </thead>\n",
       "  <tbody>\n",
       "    <tr>\n",
       "      <th>0</th>\n",
       "      <td>1</td>\n",
       "      <td>5203172209040014</td>\n",
       "      <td>15000000</td>\n",
       "      <td>39</td>\n",
       "      <td>Healthcare</td>\n",
       "      <td>1</td>\n",
       "      <td>4</td>\n",
       "      <td>Low Income</td>\n",
       "    </tr>\n",
       "    <tr>\n",
       "      <th>1</th>\n",
       "      <td>2</td>\n",
       "      <td>1705032211020016</td>\n",
       "      <td>35000000</td>\n",
       "      <td>81</td>\n",
       "      <td>Engineer</td>\n",
       "      <td>3</td>\n",
       "      <td>3</td>\n",
       "      <td>Low Income</td>\n",
       "    </tr>\n",
       "    <tr>\n",
       "      <th>2</th>\n",
       "      <td>3</td>\n",
       "      <td>7606055105030001</td>\n",
       "      <td>86000000</td>\n",
       "      <td>6</td>\n",
       "      <td>Engineer</td>\n",
       "      <td>1</td>\n",
       "      <td>1</td>\n",
       "      <td>Average Income</td>\n",
       "    </tr>\n",
       "    <tr>\n",
       "      <th>3</th>\n",
       "      <td>4</td>\n",
       "      <td>7317074601000015</td>\n",
       "      <td>59000000</td>\n",
       "      <td>77</td>\n",
       "      <td>Lawyer</td>\n",
       "      <td>0</td>\n",
       "      <td>2</td>\n",
       "      <td>Low Income</td>\n",
       "    </tr>\n",
       "    <tr>\n",
       "      <th>4</th>\n",
       "      <td>5</td>\n",
       "      <td>3215114911920008</td>\n",
       "      <td>38000000</td>\n",
       "      <td>40</td>\n",
       "      <td>Entertainment</td>\n",
       "      <td>2</td>\n",
       "      <td>6</td>\n",
       "      <td>Low Income</td>\n",
       "    </tr>\n",
       "  </tbody>\n",
       "</table>\n",
       "</div>"
      ],
      "text/plain": [
       "  CustomerID               NIK  Annual_Income  Spending_Score     Profession  \\\n",
       "0          1  5203172209040014       15000000              39     Healthcare   \n",
       "1          2  1705032211020016       35000000              81       Engineer   \n",
       "2          3  7606055105030001       86000000               6       Engineer   \n",
       "3          4  7317074601000015       59000000              77         Lawyer   \n",
       "4          5  3215114911920008       38000000              40  Entertainment   \n",
       "\n",
       "  Work_Experience Family_Size    income_level  \n",
       "0               1           4      Low Income  \n",
       "1               3           3      Low Income  \n",
       "2               1           1  Average Income  \n",
       "3               0           2      Low Income  \n",
       "4               2           6      Low Income  "
      ]
     },
     "execution_count": 13,
     "metadata": {},
     "output_type": "execute_result"
    }
   ],
   "source": [
    "income_bins =  [-np.inf, np.percentile(customer['Annual_Income'], 25), \n",
    "               np.percentile(customer['Annual_Income'], 75), \n",
    "               np.inf]\n",
    "income_names = ['Low Income', 'Average Income', 'High Income']\n",
    "\n",
    "# simpan ke kolom 'customer_level'\n",
    "customer['income_level'] = pd.cut(x=customer['Annual_Income'], bins=income_bins, labels=income_names)\n",
    "customer.head()"
   ]
  },
  {
   "cell_type": "markdown",
   "metadata": {},
   "source": [
    "Pembuatan kategori `customer_level` dari kolom `Spending_Score` dibagi menjadi tiga kategori: `Low Spender`, `Average Spender`, dan `High Spender`"
   ]
  },
  {
   "cell_type": "code",
   "execution_count": 14,
   "metadata": {},
   "outputs": [
    {
     "data": {
      "text/html": [
       "<div>\n",
       "<style scoped>\n",
       "    .dataframe tbody tr th:only-of-type {\n",
       "        vertical-align: middle;\n",
       "    }\n",
       "\n",
       "    .dataframe tbody tr th {\n",
       "        vertical-align: top;\n",
       "    }\n",
       "\n",
       "    .dataframe thead th {\n",
       "        text-align: right;\n",
       "    }\n",
       "</style>\n",
       "<table border=\"1\" class=\"dataframe\">\n",
       "  <thead>\n",
       "    <tr style=\"text-align: right;\">\n",
       "      <th></th>\n",
       "      <th>CustomerID</th>\n",
       "      <th>NIK</th>\n",
       "      <th>Annual_Income</th>\n",
       "      <th>Spending_Score</th>\n",
       "      <th>Profession</th>\n",
       "      <th>Work_Experience</th>\n",
       "      <th>Family_Size</th>\n",
       "      <th>income_level</th>\n",
       "      <th>customer_level</th>\n",
       "    </tr>\n",
       "  </thead>\n",
       "  <tbody>\n",
       "    <tr>\n",
       "      <th>0</th>\n",
       "      <td>1</td>\n",
       "      <td>5203172209040014</td>\n",
       "      <td>15000000</td>\n",
       "      <td>39</td>\n",
       "      <td>Healthcare</td>\n",
       "      <td>1</td>\n",
       "      <td>4</td>\n",
       "      <td>Low Income</td>\n",
       "      <td>Average Spender</td>\n",
       "    </tr>\n",
       "    <tr>\n",
       "      <th>1</th>\n",
       "      <td>2</td>\n",
       "      <td>1705032211020016</td>\n",
       "      <td>35000000</td>\n",
       "      <td>81</td>\n",
       "      <td>Engineer</td>\n",
       "      <td>3</td>\n",
       "      <td>3</td>\n",
       "      <td>Low Income</td>\n",
       "      <td>High Spender</td>\n",
       "    </tr>\n",
       "    <tr>\n",
       "      <th>2</th>\n",
       "      <td>3</td>\n",
       "      <td>7606055105030001</td>\n",
       "      <td>86000000</td>\n",
       "      <td>6</td>\n",
       "      <td>Engineer</td>\n",
       "      <td>1</td>\n",
       "      <td>1</td>\n",
       "      <td>Average Income</td>\n",
       "      <td>Low Spender</td>\n",
       "    </tr>\n",
       "    <tr>\n",
       "      <th>3</th>\n",
       "      <td>4</td>\n",
       "      <td>7317074601000015</td>\n",
       "      <td>59000000</td>\n",
       "      <td>77</td>\n",
       "      <td>Lawyer</td>\n",
       "      <td>0</td>\n",
       "      <td>2</td>\n",
       "      <td>Low Income</td>\n",
       "      <td>High Spender</td>\n",
       "    </tr>\n",
       "    <tr>\n",
       "      <th>4</th>\n",
       "      <td>5</td>\n",
       "      <td>3215114911920008</td>\n",
       "      <td>38000000</td>\n",
       "      <td>40</td>\n",
       "      <td>Entertainment</td>\n",
       "      <td>2</td>\n",
       "      <td>6</td>\n",
       "      <td>Low Income</td>\n",
       "      <td>Average Spender</td>\n",
       "    </tr>\n",
       "  </tbody>\n",
       "</table>\n",
       "</div>"
      ],
      "text/plain": [
       "  CustomerID               NIK  Annual_Income  Spending_Score     Profession  \\\n",
       "0          1  5203172209040014       15000000              39     Healthcare   \n",
       "1          2  1705032211020016       35000000              81       Engineer   \n",
       "2          3  7606055105030001       86000000               6       Engineer   \n",
       "3          4  7317074601000015       59000000              77         Lawyer   \n",
       "4          5  3215114911920008       38000000              40  Entertainment   \n",
       "\n",
       "  Work_Experience Family_Size    income_level   customer_level  \n",
       "0               1           4      Low Income  Average Spender  \n",
       "1               3           3      Low Income     High Spender  \n",
       "2               1           1  Average Income      Low Spender  \n",
       "3               0           2      Low Income     High Spender  \n",
       "4               2           6      Low Income  Average Spender  "
      ]
     },
     "execution_count": 14,
     "metadata": {},
     "output_type": "execute_result"
    }
   ],
   "source": [
    "spend_bins =  [-np.inf, np.percentile(customer['Spending_Score'], 25), \n",
    "               np.percentile(customer['Spending_Score'], 75), \n",
    "               np.inf]\n",
    "spend_names = ['Low Spender', 'Average Spender', 'High Spender']\n",
    "\n",
    "# simpan ke kolom 'customer_level'\n",
    "customer['customer_level'] = pd.cut(x=customer['Spending_Score'], bins=spend_bins, labels=spend_names)\n",
    "customer.head()"
   ]
  },
  {
   "cell_type": "markdown",
   "metadata": {},
   "source": [
    "# Data Pre-processing and Feature Engineering"
   ]
  },
  {
   "cell_type": "markdown",
   "metadata": {},
   "source": [
    "## Data Enrichment"
   ]
  },
  {
   "cell_type": "code",
   "execution_count": 15,
   "metadata": {},
   "outputs": [
    {
     "data": {
      "text/html": [
       "<div>\n",
       "<style scoped>\n",
       "    .dataframe tbody tr th:only-of-type {\n",
       "        vertical-align: middle;\n",
       "    }\n",
       "\n",
       "    .dataframe tbody tr th {\n",
       "        vertical-align: top;\n",
       "    }\n",
       "\n",
       "    .dataframe thead th {\n",
       "        text-align: right;\n",
       "    }\n",
       "</style>\n",
       "<table border=\"1\" class=\"dataframe\">\n",
       "  <thead>\n",
       "    <tr style=\"text-align: right;\">\n",
       "      <th></th>\n",
       "      <th>NIK</th>\n",
       "      <th>province</th>\n",
       "      <th>city</th>\n",
       "      <th>district</th>\n",
       "      <th>gender</th>\n",
       "      <th>birth_datetime</th>\n",
       "      <th>birthday</th>\n",
       "      <th>age</th>\n",
       "      <th>regist_code</th>\n",
       "    </tr>\n",
       "  </thead>\n",
       "  <tbody>\n",
       "    <tr>\n",
       "      <th>0</th>\n",
       "      <td>5203172209040014</td>\n",
       "      <td>NUSA TENGGARA BARAT</td>\n",
       "      <td>KAB. LOMBOK TIMUR</td>\n",
       "      <td>Labuhan Haji</td>\n",
       "      <td>Male</td>\n",
       "      <td>2004-09-22</td>\n",
       "      <td>22 September 2004</td>\n",
       "      <td>19</td>\n",
       "      <td>14</td>\n",
       "    </tr>\n",
       "    <tr>\n",
       "      <th>1</th>\n",
       "      <td>1705032211020016</td>\n",
       "      <td>BENGKULU</td>\n",
       "      <td>KAB. SELUMA</td>\n",
       "      <td>Talo</td>\n",
       "      <td>Male</td>\n",
       "      <td>2002-11-22</td>\n",
       "      <td>22 November 2002</td>\n",
       "      <td>21</td>\n",
       "      <td>16</td>\n",
       "    </tr>\n",
       "    <tr>\n",
       "      <th>2</th>\n",
       "      <td>7606055105030001</td>\n",
       "      <td>SULAWESI BARAT</td>\n",
       "      <td>KAB. MAMUJU TENGAH</td>\n",
       "      <td>Karossa</td>\n",
       "      <td>Female</td>\n",
       "      <td>2003-05-11</td>\n",
       "      <td>11 May 2003</td>\n",
       "      <td>20</td>\n",
       "      <td>1</td>\n",
       "    </tr>\n",
       "    <tr>\n",
       "      <th>3</th>\n",
       "      <td>7317074601000015</td>\n",
       "      <td>SULAWESI SELATAN</td>\n",
       "      <td>KAB. LUWU</td>\n",
       "      <td>Belopa</td>\n",
       "      <td>Female</td>\n",
       "      <td>2000-01-06</td>\n",
       "      <td>06 January 2000</td>\n",
       "      <td>23</td>\n",
       "      <td>15</td>\n",
       "    </tr>\n",
       "    <tr>\n",
       "      <th>4</th>\n",
       "      <td>3215114911920008</td>\n",
       "      <td>JAWA BARAT</td>\n",
       "      <td>KAB. KARAWANG</td>\n",
       "      <td>Cibuaya</td>\n",
       "      <td>Female</td>\n",
       "      <td>1992-11-09</td>\n",
       "      <td>09 November 1992</td>\n",
       "      <td>31</td>\n",
       "      <td>8</td>\n",
       "    </tr>\n",
       "  </tbody>\n",
       "</table>\n",
       "</div>"
      ],
      "text/plain": [
       "                NIK             province                city      district  \\\n",
       "0  5203172209040014  NUSA TENGGARA BARAT   KAB. LOMBOK TIMUR  Labuhan Haji   \n",
       "1  1705032211020016             BENGKULU         KAB. SELUMA          Talo   \n",
       "2  7606055105030001       SULAWESI BARAT  KAB. MAMUJU TENGAH       Karossa   \n",
       "3  7317074601000015     SULAWESI SELATAN           KAB. LUWU        Belopa   \n",
       "4  3215114911920008           JAWA BARAT       KAB. KARAWANG       Cibuaya   \n",
       "\n",
       "   gender birth_datetime           birthday  age  regist_code  \n",
       "0    Male     2004-09-22  22 September 2004   19           14  \n",
       "1    Male     2002-11-22   22 November 2002   21           16  \n",
       "2  Female     2003-05-11        11 May 2003   20            1  \n",
       "3  Female     2000-01-06    06 January 2000   23           15  \n",
       "4  Female     1992-11-09   09 November 1992   31            8  "
      ]
     },
     "execution_count": 15,
     "metadata": {},
     "output_type": "execute_result"
    }
   ],
   "source": [
    "from nomiden import reader as nr\n",
    "\n",
    "nik_generate = pd.DataFrame(customer['NIK'].apply(lambda x: nr.NIK(x).all_info).tolist())\n",
    "nik_generate.head()"
   ]
  },
  {
   "cell_type": "code",
   "execution_count": 16,
   "metadata": {},
   "outputs": [
    {
     "data": {
      "text/html": [
       "<div>\n",
       "<style scoped>\n",
       "    .dataframe tbody tr th:only-of-type {\n",
       "        vertical-align: middle;\n",
       "    }\n",
       "\n",
       "    .dataframe tbody tr th {\n",
       "        vertical-align: top;\n",
       "    }\n",
       "\n",
       "    .dataframe thead th {\n",
       "        text-align: right;\n",
       "    }\n",
       "</style>\n",
       "<table border=\"1\" class=\"dataframe\">\n",
       "  <thead>\n",
       "    <tr style=\"text-align: right;\">\n",
       "      <th></th>\n",
       "      <th>CustomerID</th>\n",
       "      <th>NIK</th>\n",
       "      <th>Annual_Income</th>\n",
       "      <th>Spending_Score</th>\n",
       "      <th>Profession</th>\n",
       "      <th>Work_Experience</th>\n",
       "      <th>Family_Size</th>\n",
       "      <th>income_level</th>\n",
       "      <th>customer_level</th>\n",
       "      <th>province</th>\n",
       "      <th>city</th>\n",
       "      <th>district</th>\n",
       "      <th>gender</th>\n",
       "      <th>birth_datetime</th>\n",
       "      <th>birthday</th>\n",
       "      <th>age</th>\n",
       "      <th>regist_code</th>\n",
       "    </tr>\n",
       "  </thead>\n",
       "  <tbody>\n",
       "    <tr>\n",
       "      <th>0</th>\n",
       "      <td>1</td>\n",
       "      <td>5203172209040014</td>\n",
       "      <td>15000000</td>\n",
       "      <td>39</td>\n",
       "      <td>Healthcare</td>\n",
       "      <td>1</td>\n",
       "      <td>4</td>\n",
       "      <td>Low Income</td>\n",
       "      <td>Average Spender</td>\n",
       "      <td>NUSA TENGGARA BARAT</td>\n",
       "      <td>KAB. LOMBOK TIMUR</td>\n",
       "      <td>Labuhan Haji</td>\n",
       "      <td>Male</td>\n",
       "      <td>2004-09-22</td>\n",
       "      <td>22 September 2004</td>\n",
       "      <td>19</td>\n",
       "      <td>14</td>\n",
       "    </tr>\n",
       "    <tr>\n",
       "      <th>1</th>\n",
       "      <td>2</td>\n",
       "      <td>1705032211020016</td>\n",
       "      <td>35000000</td>\n",
       "      <td>81</td>\n",
       "      <td>Engineer</td>\n",
       "      <td>3</td>\n",
       "      <td>3</td>\n",
       "      <td>Low Income</td>\n",
       "      <td>High Spender</td>\n",
       "      <td>BENGKULU</td>\n",
       "      <td>KAB. SELUMA</td>\n",
       "      <td>Talo</td>\n",
       "      <td>Male</td>\n",
       "      <td>2002-11-22</td>\n",
       "      <td>22 November 2002</td>\n",
       "      <td>21</td>\n",
       "      <td>16</td>\n",
       "    </tr>\n",
       "    <tr>\n",
       "      <th>2</th>\n",
       "      <td>3</td>\n",
       "      <td>7606055105030001</td>\n",
       "      <td>86000000</td>\n",
       "      <td>6</td>\n",
       "      <td>Engineer</td>\n",
       "      <td>1</td>\n",
       "      <td>1</td>\n",
       "      <td>Average Income</td>\n",
       "      <td>Low Spender</td>\n",
       "      <td>SULAWESI BARAT</td>\n",
       "      <td>KAB. MAMUJU TENGAH</td>\n",
       "      <td>Karossa</td>\n",
       "      <td>Female</td>\n",
       "      <td>2003-05-11</td>\n",
       "      <td>11 May 2003</td>\n",
       "      <td>20</td>\n",
       "      <td>1</td>\n",
       "    </tr>\n",
       "    <tr>\n",
       "      <th>3</th>\n",
       "      <td>4</td>\n",
       "      <td>7317074601000015</td>\n",
       "      <td>59000000</td>\n",
       "      <td>77</td>\n",
       "      <td>Lawyer</td>\n",
       "      <td>0</td>\n",
       "      <td>2</td>\n",
       "      <td>Low Income</td>\n",
       "      <td>High Spender</td>\n",
       "      <td>SULAWESI SELATAN</td>\n",
       "      <td>KAB. LUWU</td>\n",
       "      <td>Belopa</td>\n",
       "      <td>Female</td>\n",
       "      <td>2000-01-06</td>\n",
       "      <td>06 January 2000</td>\n",
       "      <td>23</td>\n",
       "      <td>15</td>\n",
       "    </tr>\n",
       "    <tr>\n",
       "      <th>4</th>\n",
       "      <td>5</td>\n",
       "      <td>3215114911920008</td>\n",
       "      <td>38000000</td>\n",
       "      <td>40</td>\n",
       "      <td>Entertainment</td>\n",
       "      <td>2</td>\n",
       "      <td>6</td>\n",
       "      <td>Low Income</td>\n",
       "      <td>Average Spender</td>\n",
       "      <td>JAWA BARAT</td>\n",
       "      <td>KAB. KARAWANG</td>\n",
       "      <td>Cibuaya</td>\n",
       "      <td>Female</td>\n",
       "      <td>1992-11-09</td>\n",
       "      <td>09 November 1992</td>\n",
       "      <td>31</td>\n",
       "      <td>8</td>\n",
       "    </tr>\n",
       "  </tbody>\n",
       "</table>\n",
       "</div>"
      ],
      "text/plain": [
       "  CustomerID               NIK  Annual_Income  Spending_Score     Profession  \\\n",
       "0          1  5203172209040014       15000000              39     Healthcare   \n",
       "1          2  1705032211020016       35000000              81       Engineer   \n",
       "2          3  7606055105030001       86000000               6       Engineer   \n",
       "3          4  7317074601000015       59000000              77         Lawyer   \n",
       "4          5  3215114911920008       38000000              40  Entertainment   \n",
       "\n",
       "  Work_Experience Family_Size    income_level   customer_level  \\\n",
       "0               1           4      Low Income  Average Spender   \n",
       "1               3           3      Low Income     High Spender   \n",
       "2               1           1  Average Income      Low Spender   \n",
       "3               0           2      Low Income     High Spender   \n",
       "4               2           6      Low Income  Average Spender   \n",
       "\n",
       "              province                city      district  gender  \\\n",
       "0  NUSA TENGGARA BARAT   KAB. LOMBOK TIMUR  Labuhan Haji    Male   \n",
       "1             BENGKULU         KAB. SELUMA          Talo    Male   \n",
       "2       SULAWESI BARAT  KAB. MAMUJU TENGAH       Karossa  Female   \n",
       "3     SULAWESI SELATAN           KAB. LUWU        Belopa  Female   \n",
       "4           JAWA BARAT       KAB. KARAWANG       Cibuaya  Female   \n",
       "\n",
       "  birth_datetime           birthday  age  regist_code  \n",
       "0     2004-09-22  22 September 2004   19           14  \n",
       "1     2002-11-22   22 November 2002   21           16  \n",
       "2     2003-05-11        11 May 2003   20            1  \n",
       "3     2000-01-06    06 January 2000   23           15  \n",
       "4     1992-11-09   09 November 1992   31            8  "
      ]
     },
     "execution_count": 16,
     "metadata": {},
     "output_type": "execute_result"
    }
   ],
   "source": [
    "# Merge Data Frame\n",
    "customer_merge = customer.merge(right=nik_generate, on='NIK')\n",
    "customer_merge.head()"
   ]
  },
  {
   "cell_type": "code",
   "execution_count": 17,
   "metadata": {},
   "outputs": [
    {
     "data": {
      "text/plain": [
       "CustomerID                 object\n",
       "NIK                        object\n",
       "Annual_Income               int64\n",
       "Spending_Score              int64\n",
       "Profession               category\n",
       "Work_Experience          category\n",
       "Family_Size              category\n",
       "income_level             category\n",
       "customer_level           category\n",
       "province                   object\n",
       "city                       object\n",
       "district                   object\n",
       "gender                     object\n",
       "birth_datetime     datetime64[ns]\n",
       "birthday                   object\n",
       "age                         int64\n",
       "regist_code                 int64\n",
       "dtype: object"
      ]
     },
     "execution_count": 17,
     "metadata": {},
     "output_type": "execute_result"
    }
   ],
   "source": [
    "# Cek tipe data\n",
    "customer_merge.dtypes"
   ]
  },
  {
   "cell_type": "markdown",
   "metadata": {},
   "source": [
    "Pembuatan kolom `birth_year` yang berisi tahun lahir pelanggan"
   ]
  },
  {
   "cell_type": "code",
   "execution_count": 18,
   "metadata": {},
   "outputs": [
    {
     "data": {
      "text/plain": [
       "CustomerID                 object\n",
       "NIK                        object\n",
       "Annual_Income               int64\n",
       "Spending_Score              int64\n",
       "Profession               category\n",
       "Work_Experience          category\n",
       "Family_Size              category\n",
       "income_level             category\n",
       "customer_level           category\n",
       "province                   object\n",
       "city                       object\n",
       "district                   object\n",
       "gender                     object\n",
       "birth_datetime     datetime64[ns]\n",
       "birthday                   object\n",
       "age                         int64\n",
       "regist_code                 int64\n",
       "birth_year                  int32\n",
       "dtype: object"
      ]
     },
     "execution_count": 18,
     "metadata": {},
     "output_type": "execute_result"
    }
   ],
   "source": [
    "customer_merge['birth_year'] = customer_merge['birth_datetime'].dt.year\n",
    "\n",
    "customer_merge.dtypes"
   ]
  },
  {
   "cell_type": "markdown",
   "metadata": {},
   "source": [
    "Pembuatan kategori generasi `generation` dari kolom tahun kelahiran `birth_year` pelanggan"
   ]
  },
  {
   "cell_type": "code",
   "execution_count": 19,
   "metadata": {},
   "outputs": [
    {
     "data": {
      "text/html": [
       "<div>\n",
       "<style scoped>\n",
       "    .dataframe tbody tr th:only-of-type {\n",
       "        vertical-align: middle;\n",
       "    }\n",
       "\n",
       "    .dataframe tbody tr th {\n",
       "        vertical-align: top;\n",
       "    }\n",
       "\n",
       "    .dataframe thead th {\n",
       "        text-align: right;\n",
       "    }\n",
       "</style>\n",
       "<table border=\"1\" class=\"dataframe\">\n",
       "  <thead>\n",
       "    <tr style=\"text-align: right;\">\n",
       "      <th></th>\n",
       "      <th>CustomerID</th>\n",
       "      <th>NIK</th>\n",
       "      <th>Annual_Income</th>\n",
       "      <th>Spending_Score</th>\n",
       "      <th>Profession</th>\n",
       "      <th>Work_Experience</th>\n",
       "      <th>Family_Size</th>\n",
       "      <th>income_level</th>\n",
       "      <th>customer_level</th>\n",
       "      <th>province</th>\n",
       "      <th>city</th>\n",
       "      <th>district</th>\n",
       "      <th>gender</th>\n",
       "      <th>birth_datetime</th>\n",
       "      <th>birthday</th>\n",
       "      <th>age</th>\n",
       "      <th>regist_code</th>\n",
       "      <th>birth_year</th>\n",
       "      <th>generation</th>\n",
       "    </tr>\n",
       "  </thead>\n",
       "  <tbody>\n",
       "    <tr>\n",
       "      <th>0</th>\n",
       "      <td>1</td>\n",
       "      <td>5203172209040014</td>\n",
       "      <td>15000000</td>\n",
       "      <td>39</td>\n",
       "      <td>Healthcare</td>\n",
       "      <td>1</td>\n",
       "      <td>4</td>\n",
       "      <td>Low Income</td>\n",
       "      <td>Average Spender</td>\n",
       "      <td>NUSA TENGGARA BARAT</td>\n",
       "      <td>KAB. LOMBOK TIMUR</td>\n",
       "      <td>Labuhan Haji</td>\n",
       "      <td>Male</td>\n",
       "      <td>2004-09-22</td>\n",
       "      <td>22 September 2004</td>\n",
       "      <td>19</td>\n",
       "      <td>14</td>\n",
       "      <td>2004</td>\n",
       "      <td>Gen. Z (Zoomers)</td>\n",
       "    </tr>\n",
       "    <tr>\n",
       "      <th>1</th>\n",
       "      <td>2</td>\n",
       "      <td>1705032211020016</td>\n",
       "      <td>35000000</td>\n",
       "      <td>81</td>\n",
       "      <td>Engineer</td>\n",
       "      <td>3</td>\n",
       "      <td>3</td>\n",
       "      <td>Low Income</td>\n",
       "      <td>High Spender</td>\n",
       "      <td>BENGKULU</td>\n",
       "      <td>KAB. SELUMA</td>\n",
       "      <td>Talo</td>\n",
       "      <td>Male</td>\n",
       "      <td>2002-11-22</td>\n",
       "      <td>22 November 2002</td>\n",
       "      <td>21</td>\n",
       "      <td>16</td>\n",
       "      <td>2002</td>\n",
       "      <td>Gen. Z (Zoomers)</td>\n",
       "    </tr>\n",
       "    <tr>\n",
       "      <th>2</th>\n",
       "      <td>3</td>\n",
       "      <td>7606055105030001</td>\n",
       "      <td>86000000</td>\n",
       "      <td>6</td>\n",
       "      <td>Engineer</td>\n",
       "      <td>1</td>\n",
       "      <td>1</td>\n",
       "      <td>Average Income</td>\n",
       "      <td>Low Spender</td>\n",
       "      <td>SULAWESI BARAT</td>\n",
       "      <td>KAB. MAMUJU TENGAH</td>\n",
       "      <td>Karossa</td>\n",
       "      <td>Female</td>\n",
       "      <td>2003-05-11</td>\n",
       "      <td>11 May 2003</td>\n",
       "      <td>20</td>\n",
       "      <td>1</td>\n",
       "      <td>2003</td>\n",
       "      <td>Gen. Z (Zoomers)</td>\n",
       "    </tr>\n",
       "    <tr>\n",
       "      <th>3</th>\n",
       "      <td>4</td>\n",
       "      <td>7317074601000015</td>\n",
       "      <td>59000000</td>\n",
       "      <td>77</td>\n",
       "      <td>Lawyer</td>\n",
       "      <td>0</td>\n",
       "      <td>2</td>\n",
       "      <td>Low Income</td>\n",
       "      <td>High Spender</td>\n",
       "      <td>SULAWESI SELATAN</td>\n",
       "      <td>KAB. LUWU</td>\n",
       "      <td>Belopa</td>\n",
       "      <td>Female</td>\n",
       "      <td>2000-01-06</td>\n",
       "      <td>06 January 2000</td>\n",
       "      <td>23</td>\n",
       "      <td>15</td>\n",
       "      <td>2000</td>\n",
       "      <td>Gen. Z (Zoomers)</td>\n",
       "    </tr>\n",
       "    <tr>\n",
       "      <th>4</th>\n",
       "      <td>5</td>\n",
       "      <td>3215114911920008</td>\n",
       "      <td>38000000</td>\n",
       "      <td>40</td>\n",
       "      <td>Entertainment</td>\n",
       "      <td>2</td>\n",
       "      <td>6</td>\n",
       "      <td>Low Income</td>\n",
       "      <td>Average Spender</td>\n",
       "      <td>JAWA BARAT</td>\n",
       "      <td>KAB. KARAWANG</td>\n",
       "      <td>Cibuaya</td>\n",
       "      <td>Female</td>\n",
       "      <td>1992-11-09</td>\n",
       "      <td>09 November 1992</td>\n",
       "      <td>31</td>\n",
       "      <td>8</td>\n",
       "      <td>1992</td>\n",
       "      <td>Gen. Y (Millenials)</td>\n",
       "    </tr>\n",
       "  </tbody>\n",
       "</table>\n",
       "</div>"
      ],
      "text/plain": [
       "  CustomerID               NIK  Annual_Income  Spending_Score     Profession  \\\n",
       "0          1  5203172209040014       15000000              39     Healthcare   \n",
       "1          2  1705032211020016       35000000              81       Engineer   \n",
       "2          3  7606055105030001       86000000               6       Engineer   \n",
       "3          4  7317074601000015       59000000              77         Lawyer   \n",
       "4          5  3215114911920008       38000000              40  Entertainment   \n",
       "\n",
       "  Work_Experience Family_Size    income_level   customer_level  \\\n",
       "0               1           4      Low Income  Average Spender   \n",
       "1               3           3      Low Income     High Spender   \n",
       "2               1           1  Average Income      Low Spender   \n",
       "3               0           2      Low Income     High Spender   \n",
       "4               2           6      Low Income  Average Spender   \n",
       "\n",
       "              province                city      district  gender  \\\n",
       "0  NUSA TENGGARA BARAT   KAB. LOMBOK TIMUR  Labuhan Haji    Male   \n",
       "1             BENGKULU         KAB. SELUMA          Talo    Male   \n",
       "2       SULAWESI BARAT  KAB. MAMUJU TENGAH       Karossa  Female   \n",
       "3     SULAWESI SELATAN           KAB. LUWU        Belopa  Female   \n",
       "4           JAWA BARAT       KAB. KARAWANG       Cibuaya  Female   \n",
       "\n",
       "  birth_datetime           birthday  age  regist_code  birth_year  \\\n",
       "0     2004-09-22  22 September 2004   19           14        2004   \n",
       "1     2002-11-22   22 November 2002   21           16        2002   \n",
       "2     2003-05-11        11 May 2003   20            1        2003   \n",
       "3     2000-01-06    06 January 2000   23           15        2000   \n",
       "4     1992-11-09   09 November 1992   31            8        1992   \n",
       "\n",
       "            generation  \n",
       "0     Gen. Z (Zoomers)  \n",
       "1     Gen. Z (Zoomers)  \n",
       "2     Gen. Z (Zoomers)  \n",
       "3     Gen. Z (Zoomers)  \n",
       "4  Gen. Y (Millenials)  "
      ]
     },
     "execution_count": 19,
     "metadata": {},
     "output_type": "execute_result"
    }
   ],
   "source": [
    "gen_bins =  [0, 1900, 1927, 1945, 1964, 1980, 1996, 2012, np.inf]\n",
    "gen_names = ['Lost', 'Greatest', 'Silent', 'Boomers', 'Gen. X', 'Gen. Y (Millenials)', 'Gen. Z (Zoomers)', 'Alpha']\n",
    "\n",
    "# simpan ke kolom 'generation'\n",
    "customer_merge['generation'] = pd.cut(x=customer_merge['birth_year'], bins=gen_bins, labels=gen_names)\n",
    "customer_merge.head()"
   ]
  },
  {
   "cell_type": "code",
   "execution_count": 20,
   "metadata": {},
   "outputs": [
    {
     "data": {
      "text/plain": [
       "CustomerID                 object\n",
       "NIK                        object\n",
       "Annual_Income               int64\n",
       "Spending_Score              int64\n",
       "Profession               category\n",
       "Work_Experience          category\n",
       "Family_Size              category\n",
       "income_level             category\n",
       "customer_level           category\n",
       "province                   object\n",
       "city                       object\n",
       "district                   object\n",
       "gender                     object\n",
       "birth_datetime     datetime64[ns]\n",
       "birthday                   object\n",
       "age                         int64\n",
       "regist_code                 int64\n",
       "birth_year                  int32\n",
       "generation               category\n",
       "dtype: object"
      ]
     },
     "execution_count": 20,
     "metadata": {},
     "output_type": "execute_result"
    }
   ],
   "source": [
    "# Cek kembali tipe data\n",
    "customer_merge.dtypes"
   ]
  },
  {
   "cell_type": "markdown",
   "metadata": {},
   "source": [
    "## Data Exporting"
   ]
  },
  {
   "cell_type": "code",
   "execution_count": 21,
   "metadata": {},
   "outputs": [],
   "source": [
    "# Simpan ke format pickle\n",
    "customer_merge.to_pickle('data/customer_clean.pkl')"
   ]
  },
  {
   "cell_type": "code",
   "execution_count": 22,
   "metadata": {},
   "outputs": [
    {
     "data": {
      "text/html": [
       "<div>\n",
       "<style scoped>\n",
       "    .dataframe tbody tr th:only-of-type {\n",
       "        vertical-align: middle;\n",
       "    }\n",
       "\n",
       "    .dataframe tbody tr th {\n",
       "        vertical-align: top;\n",
       "    }\n",
       "\n",
       "    .dataframe thead th {\n",
       "        text-align: right;\n",
       "    }\n",
       "</style>\n",
       "<table border=\"1\" class=\"dataframe\">\n",
       "  <thead>\n",
       "    <tr style=\"text-align: right;\">\n",
       "      <th></th>\n",
       "      <th>CustomerID</th>\n",
       "      <th>NIK</th>\n",
       "      <th>Annual_Income</th>\n",
       "      <th>Spending_Score</th>\n",
       "      <th>Profession</th>\n",
       "      <th>Work_Experience</th>\n",
       "      <th>Family_Size</th>\n",
       "      <th>income_level</th>\n",
       "      <th>customer_level</th>\n",
       "      <th>province</th>\n",
       "      <th>city</th>\n",
       "      <th>district</th>\n",
       "      <th>gender</th>\n",
       "      <th>birth_datetime</th>\n",
       "      <th>birthday</th>\n",
       "      <th>age</th>\n",
       "      <th>regist_code</th>\n",
       "      <th>birth_year</th>\n",
       "      <th>generation</th>\n",
       "    </tr>\n",
       "  </thead>\n",
       "  <tbody>\n",
       "    <tr>\n",
       "      <th>0</th>\n",
       "      <td>1</td>\n",
       "      <td>5203172209040014</td>\n",
       "      <td>15000000</td>\n",
       "      <td>39</td>\n",
       "      <td>Healthcare</td>\n",
       "      <td>1</td>\n",
       "      <td>4</td>\n",
       "      <td>Low Income</td>\n",
       "      <td>Average Spender</td>\n",
       "      <td>NUSA TENGGARA BARAT</td>\n",
       "      <td>KAB. LOMBOK TIMUR</td>\n",
       "      <td>Labuhan Haji</td>\n",
       "      <td>Male</td>\n",
       "      <td>2004-09-22</td>\n",
       "      <td>22 September 2004</td>\n",
       "      <td>19</td>\n",
       "      <td>14</td>\n",
       "      <td>2004</td>\n",
       "      <td>Gen. Z (Zoomers)</td>\n",
       "    </tr>\n",
       "    <tr>\n",
       "      <th>1</th>\n",
       "      <td>2</td>\n",
       "      <td>1705032211020016</td>\n",
       "      <td>35000000</td>\n",
       "      <td>81</td>\n",
       "      <td>Engineer</td>\n",
       "      <td>3</td>\n",
       "      <td>3</td>\n",
       "      <td>Low Income</td>\n",
       "      <td>High Spender</td>\n",
       "      <td>BENGKULU</td>\n",
       "      <td>KAB. SELUMA</td>\n",
       "      <td>Talo</td>\n",
       "      <td>Male</td>\n",
       "      <td>2002-11-22</td>\n",
       "      <td>22 November 2002</td>\n",
       "      <td>21</td>\n",
       "      <td>16</td>\n",
       "      <td>2002</td>\n",
       "      <td>Gen. Z (Zoomers)</td>\n",
       "    </tr>\n",
       "    <tr>\n",
       "      <th>2</th>\n",
       "      <td>3</td>\n",
       "      <td>7606055105030001</td>\n",
       "      <td>86000000</td>\n",
       "      <td>6</td>\n",
       "      <td>Engineer</td>\n",
       "      <td>1</td>\n",
       "      <td>1</td>\n",
       "      <td>Average Income</td>\n",
       "      <td>Low Spender</td>\n",
       "      <td>SULAWESI BARAT</td>\n",
       "      <td>KAB. MAMUJU TENGAH</td>\n",
       "      <td>Karossa</td>\n",
       "      <td>Female</td>\n",
       "      <td>2003-05-11</td>\n",
       "      <td>11 May 2003</td>\n",
       "      <td>20</td>\n",
       "      <td>1</td>\n",
       "      <td>2003</td>\n",
       "      <td>Gen. Z (Zoomers)</td>\n",
       "    </tr>\n",
       "    <tr>\n",
       "      <th>3</th>\n",
       "      <td>4</td>\n",
       "      <td>7317074601000015</td>\n",
       "      <td>59000000</td>\n",
       "      <td>77</td>\n",
       "      <td>Lawyer</td>\n",
       "      <td>0</td>\n",
       "      <td>2</td>\n",
       "      <td>Low Income</td>\n",
       "      <td>High Spender</td>\n",
       "      <td>SULAWESI SELATAN</td>\n",
       "      <td>KAB. LUWU</td>\n",
       "      <td>Belopa</td>\n",
       "      <td>Female</td>\n",
       "      <td>2000-01-06</td>\n",
       "      <td>06 January 2000</td>\n",
       "      <td>23</td>\n",
       "      <td>15</td>\n",
       "      <td>2000</td>\n",
       "      <td>Gen. Z (Zoomers)</td>\n",
       "    </tr>\n",
       "    <tr>\n",
       "      <th>4</th>\n",
       "      <td>5</td>\n",
       "      <td>3215114911920008</td>\n",
       "      <td>38000000</td>\n",
       "      <td>40</td>\n",
       "      <td>Entertainment</td>\n",
       "      <td>2</td>\n",
       "      <td>6</td>\n",
       "      <td>Low Income</td>\n",
       "      <td>Average Spender</td>\n",
       "      <td>JAWA BARAT</td>\n",
       "      <td>KAB. KARAWANG</td>\n",
       "      <td>Cibuaya</td>\n",
       "      <td>Female</td>\n",
       "      <td>1992-11-09</td>\n",
       "      <td>09 November 1992</td>\n",
       "      <td>31</td>\n",
       "      <td>8</td>\n",
       "      <td>1992</td>\n",
       "      <td>Gen. Y (Millenials)</td>\n",
       "    </tr>\n",
       "  </tbody>\n",
       "</table>\n",
       "</div>"
      ],
      "text/plain": [
       "  CustomerID               NIK  Annual_Income  Spending_Score     Profession  \\\n",
       "0          1  5203172209040014       15000000              39     Healthcare   \n",
       "1          2  1705032211020016       35000000              81       Engineer   \n",
       "2          3  7606055105030001       86000000               6       Engineer   \n",
       "3          4  7317074601000015       59000000              77         Lawyer   \n",
       "4          5  3215114911920008       38000000              40  Entertainment   \n",
       "\n",
       "  Work_Experience Family_Size    income_level   customer_level  \\\n",
       "0               1           4      Low Income  Average Spender   \n",
       "1               3           3      Low Income     High Spender   \n",
       "2               1           1  Average Income      Low Spender   \n",
       "3               0           2      Low Income     High Spender   \n",
       "4               2           6      Low Income  Average Spender   \n",
       "\n",
       "              province                city      district  gender  \\\n",
       "0  NUSA TENGGARA BARAT   KAB. LOMBOK TIMUR  Labuhan Haji    Male   \n",
       "1             BENGKULU         KAB. SELUMA          Talo    Male   \n",
       "2       SULAWESI BARAT  KAB. MAMUJU TENGAH       Karossa  Female   \n",
       "3     SULAWESI SELATAN           KAB. LUWU        Belopa  Female   \n",
       "4           JAWA BARAT       KAB. KARAWANG       Cibuaya  Female   \n",
       "\n",
       "  birth_datetime           birthday  age  regist_code  birth_year  \\\n",
       "0     2004-09-22  22 September 2004   19           14        2004   \n",
       "1     2002-11-22   22 November 2002   21           16        2002   \n",
       "2     2003-05-11        11 May 2003   20            1        2003   \n",
       "3     2000-01-06    06 January 2000   23           15        2000   \n",
       "4     1992-11-09   09 November 1992   31            8        1992   \n",
       "\n",
       "            generation  \n",
       "0     Gen. Z (Zoomers)  \n",
       "1     Gen. Z (Zoomers)  \n",
       "2     Gen. Z (Zoomers)  \n",
       "3     Gen. Z (Zoomers)  \n",
       "4  Gen. Y (Millenials)  "
      ]
     },
     "execution_count": 22,
     "metadata": {},
     "output_type": "execute_result"
    }
   ],
   "source": [
    "# Baca data customer_merge.pkl dan assign ke variable customer_pkl\n",
    "customer_clean = pd.read_pickle('data/customer_clean.pkl')\n",
    "customer_clean.head()"
   ]
  },
  {
   "cell_type": "code",
   "execution_count": 23,
   "metadata": {},
   "outputs": [
    {
     "data": {
      "text/plain": [
       "CustomerID                 object\n",
       "NIK                        object\n",
       "Annual_Income               int64\n",
       "Spending_Score              int64\n",
       "Profession               category\n",
       "Work_Experience          category\n",
       "Family_Size              category\n",
       "income_level             category\n",
       "customer_level           category\n",
       "province                   object\n",
       "city                       object\n",
       "district                   object\n",
       "gender                     object\n",
       "birth_datetime     datetime64[ns]\n",
       "birthday                   object\n",
       "age                         int64\n",
       "regist_code                 int64\n",
       "birth_year                  int32\n",
       "generation               category\n",
       "dtype: object"
      ]
     },
     "execution_count": 23,
     "metadata": {},
     "output_type": "execute_result"
    }
   ],
   "source": [
    "# cek tipe data customer_pkl\n",
    "customer_clean.dtypes"
   ]
  },
  {
   "cell_type": "markdown",
   "metadata": {},
   "source": [
    "# Exploratory Data Analysis"
   ]
  },
  {
   "cell_type": "code",
   "execution_count": 24,
   "metadata": {},
   "outputs": [
    {
     "data": {
      "text/html": [
       "<div>\n",
       "<style scoped>\n",
       "    .dataframe tbody tr th:only-of-type {\n",
       "        vertical-align: middle;\n",
       "    }\n",
       "\n",
       "    .dataframe tbody tr th {\n",
       "        vertical-align: top;\n",
       "    }\n",
       "\n",
       "    .dataframe thead th {\n",
       "        text-align: right;\n",
       "    }\n",
       "</style>\n",
       "<table border=\"1\" class=\"dataframe\">\n",
       "  <thead>\n",
       "    <tr style=\"text-align: right;\">\n",
       "      <th></th>\n",
       "      <th>CustomerID</th>\n",
       "      <th>NIK</th>\n",
       "      <th>Annual_Income</th>\n",
       "      <th>Spending_Score</th>\n",
       "      <th>Profession</th>\n",
       "      <th>Work_Experience</th>\n",
       "      <th>Family_Size</th>\n",
       "      <th>income_level</th>\n",
       "      <th>customer_level</th>\n",
       "      <th>province</th>\n",
       "      <th>city</th>\n",
       "      <th>district</th>\n",
       "      <th>gender</th>\n",
       "      <th>birth_datetime</th>\n",
       "      <th>birthday</th>\n",
       "      <th>age</th>\n",
       "      <th>regist_code</th>\n",
       "      <th>birth_year</th>\n",
       "      <th>generation</th>\n",
       "    </tr>\n",
       "  </thead>\n",
       "  <tbody>\n",
       "    <tr>\n",
       "      <th>166</th>\n",
       "      <td>170</td>\n",
       "      <td>3310240107910005</td>\n",
       "      <td>0</td>\n",
       "      <td>63</td>\n",
       "      <td>Artist</td>\n",
       "      <td>2</td>\n",
       "      <td>2</td>\n",
       "      <td>Low Income</td>\n",
       "      <td>Average Spender</td>\n",
       "      <td>JAWA TENGAH</td>\n",
       "      <td>KAB. KLATEN</td>\n",
       "      <td>Klaten Utara</td>\n",
       "      <td>Male</td>\n",
       "      <td>1991-07-01</td>\n",
       "      <td>01 July 1991</td>\n",
       "      <td>32</td>\n",
       "      <td>5</td>\n",
       "      <td>1991</td>\n",
       "      <td>Gen. Y (Millenials)</td>\n",
       "    </tr>\n",
       "    <tr>\n",
       "      <th>219</th>\n",
       "      <td>247</td>\n",
       "      <td>7606010712000018</td>\n",
       "      <td>0</td>\n",
       "      <td>96</td>\n",
       "      <td>Doctor</td>\n",
       "      <td>1</td>\n",
       "      <td>3</td>\n",
       "      <td>Low Income</td>\n",
       "      <td>High Spender</td>\n",
       "      <td>SULAWESI BARAT</td>\n",
       "      <td>KAB. MAMUJU TENGAH</td>\n",
       "      <td>Tobadak</td>\n",
       "      <td>Male</td>\n",
       "      <td>2000-12-07</td>\n",
       "      <td>07 December 2000</td>\n",
       "      <td>23</td>\n",
       "      <td>18</td>\n",
       "      <td>2000</td>\n",
       "      <td>Gen. Z (Zoomers)</td>\n",
       "    </tr>\n",
       "  </tbody>\n",
       "</table>\n",
       "</div>"
      ],
      "text/plain": [
       "    CustomerID               NIK  Annual_Income  Spending_Score Profession  \\\n",
       "166        170  3310240107910005              0              63     Artist   \n",
       "219        247  7606010712000018              0              96     Doctor   \n",
       "\n",
       "    Work_Experience Family_Size income_level   customer_level        province  \\\n",
       "166               2           2   Low Income  Average Spender     JAWA TENGAH   \n",
       "219               1           3   Low Income     High Spender  SULAWESI BARAT   \n",
       "\n",
       "                   city      district gender birth_datetime          birthday  \\\n",
       "166         KAB. KLATEN  Klaten Utara   Male     1991-07-01      01 July 1991   \n",
       "219  KAB. MAMUJU TENGAH       Tobadak   Male     2000-12-07  07 December 2000   \n",
       "\n",
       "     age  regist_code  birth_year           generation  \n",
       "166   32            5        1991  Gen. Y (Millenials)  \n",
       "219   23           18        2000     Gen. Z (Zoomers)  "
      ]
     },
     "execution_count": 24,
     "metadata": {},
     "output_type": "execute_result"
    }
   ],
   "source": [
    "kondisi_null = customer_clean['Annual_Income'] == 0\n",
    "\n",
    "customer_clean[kondisi_null]"
   ]
  },
  {
   "cell_type": "code",
   "execution_count": 25,
   "metadata": {},
   "outputs": [
    {
     "data": {
      "text/html": [
       "<div>\n",
       "<style scoped>\n",
       "    .dataframe tbody tr th:only-of-type {\n",
       "        vertical-align: middle;\n",
       "    }\n",
       "\n",
       "    .dataframe tbody tr th {\n",
       "        vertical-align: top;\n",
       "    }\n",
       "\n",
       "    .dataframe thead th {\n",
       "        text-align: right;\n",
       "    }\n",
       "</style>\n",
       "<table border=\"1\" class=\"dataframe\">\n",
       "  <thead>\n",
       "    <tr style=\"text-align: right;\">\n",
       "      <th></th>\n",
       "      <th>Profession</th>\n",
       "      <th>Work_Experience</th>\n",
       "      <th>Family_Size</th>\n",
       "      <th>income_level</th>\n",
       "      <th>customer_level</th>\n",
       "      <th>generation</th>\n",
       "    </tr>\n",
       "  </thead>\n",
       "  <tbody>\n",
       "    <tr>\n",
       "      <th>count</th>\n",
       "      <td>1107</td>\n",
       "      <td>1107</td>\n",
       "      <td>1107</td>\n",
       "      <td>1107</td>\n",
       "      <td>1107</td>\n",
       "      <td>1107</td>\n",
       "    </tr>\n",
       "    <tr>\n",
       "      <th>unique</th>\n",
       "      <td>10</td>\n",
       "      <td>18</td>\n",
       "      <td>9</td>\n",
       "      <td>3</td>\n",
       "      <td>3</td>\n",
       "      <td>4</td>\n",
       "    </tr>\n",
       "    <tr>\n",
       "      <th>top</th>\n",
       "      <td>Artist</td>\n",
       "      <td>1</td>\n",
       "      <td>2</td>\n",
       "      <td>Average Income</td>\n",
       "      <td>Average Spender</td>\n",
       "      <td>Gen. Y (Millenials)</td>\n",
       "    </tr>\n",
       "    <tr>\n",
       "      <th>freq</th>\n",
       "      <td>355</td>\n",
       "      <td>268</td>\n",
       "      <td>211</td>\n",
       "      <td>553</td>\n",
       "      <td>554</td>\n",
       "      <td>359</td>\n",
       "    </tr>\n",
       "  </tbody>\n",
       "</table>\n",
       "</div>"
      ],
      "text/plain": [
       "       Profession  Work_Experience  Family_Size    income_level  \\\n",
       "count        1107             1107         1107            1107   \n",
       "unique         10               18            9               3   \n",
       "top        Artist                1            2  Average Income   \n",
       "freq          355              268          211             553   \n",
       "\n",
       "         customer_level           generation  \n",
       "count              1107                 1107  \n",
       "unique                3                    4  \n",
       "top     Average Spender  Gen. Y (Millenials)  \n",
       "freq                554                  359  "
      ]
     },
     "execution_count": 25,
     "metadata": {},
     "output_type": "execute_result"
    }
   ],
   "source": [
    "customer_clean.describe(include = 'category')"
   ]
  },
  {
   "cell_type": "markdown",
   "metadata": {},
   "source": [
    "✏️ **Insight** :\n",
    "Customer yang **terbanyak melakukan transaksi pembelian** adalah customer dengan profil sbb: \n",
    "- profesi pekerjaan sebagai Artist\n",
    "- Level pendapatan di Average Income\n",
    "- Level pembelian adalah di Average Spender\n",
    "- Generasi Y (Millenials)"
   ]
  },
  {
   "cell_type": "markdown",
   "metadata": {},
   "source": [
    "## Visualization"
   ]
  },
  {
   "cell_type": "markdown",
   "metadata": {},
   "source": [
    "### Map Plot : Jumlah customer untuk tiap **gender** pada tiap provinsi"
   ]
  },
  {
   "cell_type": "code",
   "execution_count": 26,
   "metadata": {},
   "outputs": [
    {
     "data": {
      "text/html": [
       "<div>\n",
       "<style scoped>\n",
       "    .dataframe tbody tr th:only-of-type {\n",
       "        vertical-align: middle;\n",
       "    }\n",
       "\n",
       "    .dataframe tbody tr th {\n",
       "        vertical-align: top;\n",
       "    }\n",
       "\n",
       "    .dataframe thead th {\n",
       "        text-align: right;\n",
       "    }\n",
       "</style>\n",
       "<table border=\"1\" class=\"dataframe\">\n",
       "  <thead>\n",
       "    <tr style=\"text-align: right;\">\n",
       "      <th></th>\n",
       "      <th>province</th>\n",
       "      <th>Female</th>\n",
       "      <th>Male</th>\n",
       "      <th>Total</th>\n",
       "    </tr>\n",
       "  </thead>\n",
       "  <tbody>\n",
       "    <tr>\n",
       "      <th>0</th>\n",
       "      <td>ACEH</td>\n",
       "      <td>26</td>\n",
       "      <td>20</td>\n",
       "      <td>46</td>\n",
       "    </tr>\n",
       "    <tr>\n",
       "      <th>1</th>\n",
       "      <td>BALI</td>\n",
       "      <td>3</td>\n",
       "      <td>2</td>\n",
       "      <td>5</td>\n",
       "    </tr>\n",
       "    <tr>\n",
       "      <th>2</th>\n",
       "      <td>BANTEN</td>\n",
       "      <td>16</td>\n",
       "      <td>7</td>\n",
       "      <td>23</td>\n",
       "    </tr>\n",
       "    <tr>\n",
       "      <th>3</th>\n",
       "      <td>BENGKULU</td>\n",
       "      <td>9</td>\n",
       "      <td>13</td>\n",
       "      <td>22</td>\n",
       "    </tr>\n",
       "    <tr>\n",
       "      <th>4</th>\n",
       "      <td>DAERAH ISTIMEWA YOGYAKARTA</td>\n",
       "      <td>11</td>\n",
       "      <td>6</td>\n",
       "      <td>17</td>\n",
       "    </tr>\n",
       "    <tr>\n",
       "      <th>5</th>\n",
       "      <td>DKI JAKARTA</td>\n",
       "      <td>2</td>\n",
       "      <td>3</td>\n",
       "      <td>5</td>\n",
       "    </tr>\n",
       "    <tr>\n",
       "      <th>6</th>\n",
       "      <td>GORONTALO</td>\n",
       "      <td>8</td>\n",
       "      <td>7</td>\n",
       "      <td>15</td>\n",
       "    </tr>\n",
       "    <tr>\n",
       "      <th>7</th>\n",
       "      <td>JAMBI</td>\n",
       "      <td>14</td>\n",
       "      <td>13</td>\n",
       "      <td>27</td>\n",
       "    </tr>\n",
       "    <tr>\n",
       "      <th>8</th>\n",
       "      <td>JAWA BARAT</td>\n",
       "      <td>65</td>\n",
       "      <td>27</td>\n",
       "      <td>92</td>\n",
       "    </tr>\n",
       "    <tr>\n",
       "      <th>9</th>\n",
       "      <td>JAWA TENGAH</td>\n",
       "      <td>56</td>\n",
       "      <td>29</td>\n",
       "      <td>85</td>\n",
       "    </tr>\n",
       "    <tr>\n",
       "      <th>10</th>\n",
       "      <td>JAWA TIMUR</td>\n",
       "      <td>60</td>\n",
       "      <td>48</td>\n",
       "      <td>108</td>\n",
       "    </tr>\n",
       "    <tr>\n",
       "      <th>11</th>\n",
       "      <td>KALIMANTAN BARAT</td>\n",
       "      <td>13</td>\n",
       "      <td>11</td>\n",
       "      <td>24</td>\n",
       "    </tr>\n",
       "    <tr>\n",
       "      <th>12</th>\n",
       "      <td>KALIMANTAN SELATAN</td>\n",
       "      <td>13</td>\n",
       "      <td>4</td>\n",
       "      <td>17</td>\n",
       "    </tr>\n",
       "    <tr>\n",
       "      <th>13</th>\n",
       "      <td>KALIMANTAN TENGAH</td>\n",
       "      <td>15</td>\n",
       "      <td>8</td>\n",
       "      <td>23</td>\n",
       "    </tr>\n",
       "    <tr>\n",
       "      <th>14</th>\n",
       "      <td>KALIMANTAN TIMUR</td>\n",
       "      <td>13</td>\n",
       "      <td>9</td>\n",
       "      <td>22</td>\n",
       "    </tr>\n",
       "    <tr>\n",
       "      <th>15</th>\n",
       "      <td>KALIMANTAN UTARA</td>\n",
       "      <td>1</td>\n",
       "      <td>3</td>\n",
       "      <td>4</td>\n",
       "    </tr>\n",
       "    <tr>\n",
       "      <th>16</th>\n",
       "      <td>KEPULAUAN BANGKA BELITUNG</td>\n",
       "      <td>2</td>\n",
       "      <td>3</td>\n",
       "      <td>5</td>\n",
       "    </tr>\n",
       "    <tr>\n",
       "      <th>17</th>\n",
       "      <td>KEPULAUAN RIAU</td>\n",
       "      <td>10</td>\n",
       "      <td>7</td>\n",
       "      <td>17</td>\n",
       "    </tr>\n",
       "    <tr>\n",
       "      <th>18</th>\n",
       "      <td>LAMPUNG</td>\n",
       "      <td>19</td>\n",
       "      <td>10</td>\n",
       "      <td>29</td>\n",
       "    </tr>\n",
       "    <tr>\n",
       "      <th>19</th>\n",
       "      <td>MALUKU</td>\n",
       "      <td>5</td>\n",
       "      <td>6</td>\n",
       "      <td>11</td>\n",
       "    </tr>\n",
       "    <tr>\n",
       "      <th>20</th>\n",
       "      <td>MALUKU UTARA</td>\n",
       "      <td>8</td>\n",
       "      <td>2</td>\n",
       "      <td>10</td>\n",
       "    </tr>\n",
       "    <tr>\n",
       "      <th>21</th>\n",
       "      <td>NUSA TENGGARA BARAT</td>\n",
       "      <td>10</td>\n",
       "      <td>4</td>\n",
       "      <td>14</td>\n",
       "    </tr>\n",
       "    <tr>\n",
       "      <th>22</th>\n",
       "      <td>NUSA TENGGARA TIMUR</td>\n",
       "      <td>33</td>\n",
       "      <td>26</td>\n",
       "      <td>59</td>\n",
       "    </tr>\n",
       "    <tr>\n",
       "      <th>23</th>\n",
       "      <td>PAPUA</td>\n",
       "      <td>46</td>\n",
       "      <td>32</td>\n",
       "      <td>78</td>\n",
       "    </tr>\n",
       "    <tr>\n",
       "      <th>24</th>\n",
       "      <td>PAPUA BARAT</td>\n",
       "      <td>13</td>\n",
       "      <td>13</td>\n",
       "      <td>26</td>\n",
       "    </tr>\n",
       "    <tr>\n",
       "      <th>25</th>\n",
       "      <td>RIAU</td>\n",
       "      <td>11</td>\n",
       "      <td>4</td>\n",
       "      <td>15</td>\n",
       "    </tr>\n",
       "    <tr>\n",
       "      <th>26</th>\n",
       "      <td>SULAWESI BARAT</td>\n",
       "      <td>6</td>\n",
       "      <td>7</td>\n",
       "      <td>13</td>\n",
       "    </tr>\n",
       "    <tr>\n",
       "      <th>27</th>\n",
       "      <td>SULAWESI SELATAN</td>\n",
       "      <td>27</td>\n",
       "      <td>17</td>\n",
       "      <td>44</td>\n",
       "    </tr>\n",
       "    <tr>\n",
       "      <th>28</th>\n",
       "      <td>SULAWESI TENGAH</td>\n",
       "      <td>14</td>\n",
       "      <td>7</td>\n",
       "      <td>21</td>\n",
       "    </tr>\n",
       "    <tr>\n",
       "      <th>29</th>\n",
       "      <td>SULAWESI TENGGARA</td>\n",
       "      <td>23</td>\n",
       "      <td>16</td>\n",
       "      <td>39</td>\n",
       "    </tr>\n",
       "    <tr>\n",
       "      <th>30</th>\n",
       "      <td>SULAWESI UTARA</td>\n",
       "      <td>16</td>\n",
       "      <td>12</td>\n",
       "      <td>28</td>\n",
       "    </tr>\n",
       "    <tr>\n",
       "      <th>31</th>\n",
       "      <td>SUMATERA BARAT</td>\n",
       "      <td>13</td>\n",
       "      <td>19</td>\n",
       "      <td>32</td>\n",
       "    </tr>\n",
       "    <tr>\n",
       "      <th>32</th>\n",
       "      <td>SUMATERA SELATAN</td>\n",
       "      <td>33</td>\n",
       "      <td>13</td>\n",
       "      <td>46</td>\n",
       "    </tr>\n",
       "    <tr>\n",
       "      <th>33</th>\n",
       "      <td>SUMATERA UTARA</td>\n",
       "      <td>55</td>\n",
       "      <td>30</td>\n",
       "      <td>85</td>\n",
       "    </tr>\n",
       "  </tbody>\n",
       "</table>\n",
       "</div>"
      ],
      "text/plain": [
       "                      province  Female  Male  Total\n",
       "0                         ACEH      26    20     46\n",
       "1                         BALI       3     2      5\n",
       "2                       BANTEN      16     7     23\n",
       "3                     BENGKULU       9    13     22\n",
       "4   DAERAH ISTIMEWA YOGYAKARTA      11     6     17\n",
       "5                  DKI JAKARTA       2     3      5\n",
       "6                    GORONTALO       8     7     15\n",
       "7                        JAMBI      14    13     27\n",
       "8                   JAWA BARAT      65    27     92\n",
       "9                  JAWA TENGAH      56    29     85\n",
       "10                  JAWA TIMUR      60    48    108\n",
       "11            KALIMANTAN BARAT      13    11     24\n",
       "12          KALIMANTAN SELATAN      13     4     17\n",
       "13           KALIMANTAN TENGAH      15     8     23\n",
       "14            KALIMANTAN TIMUR      13     9     22\n",
       "15            KALIMANTAN UTARA       1     3      4\n",
       "16   KEPULAUAN BANGKA BELITUNG       2     3      5\n",
       "17              KEPULAUAN RIAU      10     7     17\n",
       "18                     LAMPUNG      19    10     29\n",
       "19                      MALUKU       5     6     11\n",
       "20                MALUKU UTARA       8     2     10\n",
       "21         NUSA TENGGARA BARAT      10     4     14\n",
       "22         NUSA TENGGARA TIMUR      33    26     59\n",
       "23                       PAPUA      46    32     78\n",
       "24                 PAPUA BARAT      13    13     26\n",
       "25                        RIAU      11     4     15\n",
       "26              SULAWESI BARAT       6     7     13\n",
       "27            SULAWESI SELATAN      27    17     44\n",
       "28             SULAWESI TENGAH      14     7     21\n",
       "29           SULAWESI TENGGARA      23    16     39\n",
       "30              SULAWESI UTARA      16    12     28\n",
       "31              SUMATERA BARAT      13    19     32\n",
       "32            SUMATERA SELATAN      33    13     46\n",
       "33              SUMATERA UTARA      55    30     85"
      ]
     },
     "execution_count": 26,
     "metadata": {},
     "output_type": "execute_result"
    }
   ],
   "source": [
    "\n",
    "prov_gender = pd.crosstab(index = customer_clean['province'],\n",
    "                   columns = customer_clean['gender'],\n",
    "                   colnames=[None]).reset_index()\n",
    "\n",
    "prov_gender['Total'] = prov_gender['Female'] + prov_gender['Male']\n",
    "\n",
    "prov_gender"
   ]
  },
  {
   "cell_type": "code",
   "execution_count": 27,
   "metadata": {},
   "outputs": [],
   "source": [
    "coord = pd.read_csv('data/coordinate.csv')"
   ]
  },
  {
   "cell_type": "code",
   "execution_count": 28,
   "metadata": {},
   "outputs": [
    {
     "data": {
      "application/vnd.plotly.v1+json": {
       "config": {
        "plotlyServerURL": "https://plot.ly"
       },
       "data": [
        {
         "customdata": [
          [
           20,
           26,
           4.36855,
           97.0253
          ],
          [
           2,
           3,
           -8.23566,
           115.12239
          ],
          [
           7,
           16,
           -6.44538,
           106.13756
          ],
          [
           13,
           9,
           -3.51868,
           102.53598
          ],
          [
           6,
           11,
           -7.7956,
           110.3695
          ],
          [
           3,
           2,
           -6.1745,
           106.8227
          ],
          [
           7,
           8,
           0.71862,
           122.45559
          ],
          [
           13,
           14,
           -1.61157,
           102.7797
          ],
          [
           27,
           65,
           -6.88917,
           107.64047
          ],
          [
           29,
           56,
           -7.30324,
           110.00441
          ],
          [
           48,
           60,
           -6.96851,
           113.98005
          ],
          [
           11,
           13,
           -0.13224,
           111.09689
          ],
          [
           4,
           13,
           -2.94348,
           115.37565
          ],
          [
           8,
           15,
           -1.49958,
           113.29033
          ],
          [
           9,
           13,
           0.78844,
           116.242
          ],
          [
           3,
           1,
           2.72594,
           116.911
          ],
          [
           3,
           2,
           -2.75775,
           107.58394
          ],
          [
           7,
           10,
           -0.15478,
           104.58037
          ],
          [
           10,
           19,
           -4.8555,
           105.0273
          ],
          [
           6,
           5,
           -3.11884,
           129.42078
          ],
          [
           2,
           8,
           0.63012,
           127.97202
          ],
          [
           4,
           10,
           -8.12179,
           117.63696
          ],
          [
           26,
           33,
           -8.56568,
           120.69786
          ],
          [
           32,
           46,
           -3.98857,
           138.34853
          ],
          [
           13,
           13,
           -1.38424,
           132.90253
          ],
          [
           4,
           11,
           0.50041,
           101.54758
          ],
          [
           7,
           6,
           -2.49745,
           119.3919
          ],
          [
           17,
           27,
           -3.64467,
           119.94719
          ],
          [
           7,
           14,
           -1.69378,
           120.80886
          ],
          [
           16,
           23,
           -3.54912,
           121.72796
          ],
          [
           12,
           16,
           0.65557,
           124.09015
          ],
          [
           19,
           13,
           -1.34225,
           100.0761
          ],
          [
           13,
           33,
           -3.12668,
           104.09306
          ],
          [
           30,
           55,
           2.19235,
           99.38122
          ]
         ],
         "hovertemplate": "<b>%{hovertext}</b><br><br>Total=%{marker.size}<br>Male=%{customdata[0]}<br>Female=%{customdata[1]}<extra></extra>",
         "hovertext": [
          "ACEH",
          "BALI",
          "BANTEN",
          "BENGKULU",
          "DAERAH ISTIMEWA YOGYAKARTA",
          "DKI JAKARTA",
          "GORONTALO",
          "JAMBI",
          "JAWA BARAT",
          "JAWA TENGAH",
          "JAWA TIMUR",
          "KALIMANTAN BARAT",
          "KALIMANTAN SELATAN",
          "KALIMANTAN TENGAH",
          "KALIMANTAN TIMUR",
          "KALIMANTAN UTARA",
          "KEPULAUAN BANGKA BELITUNG",
          "KEPULAUAN RIAU",
          "LAMPUNG",
          "MALUKU",
          "MALUKU UTARA",
          "NUSA TENGGARA BARAT",
          "NUSA TENGGARA TIMUR",
          "PAPUA",
          "PAPUA BARAT",
          "RIAU",
          "SULAWESI BARAT",
          "SULAWESI SELATAN",
          "SULAWESI TENGAH",
          "SULAWESI TENGGARA",
          "SULAWESI UTARA",
          "SUMATERA BARAT",
          "SUMATERA SELATAN",
          "SUMATERA UTARA"
         ],
         "lat": [
          4.36855,
          -8.23566,
          -6.44538,
          -3.51868,
          -7.7956,
          -6.1745,
          0.71862,
          -1.61157,
          -6.88917,
          -7.30324,
          -6.96851,
          -0.13224,
          -2.94348,
          -1.49958,
          0.78844,
          2.72594,
          -2.75775,
          -0.15478,
          -4.8555,
          -3.11884,
          0.63012,
          -8.12179,
          -8.56568,
          -3.98857,
          -1.38424,
          0.50041,
          -2.49745,
          -3.64467,
          -1.69378,
          -3.54912,
          0.65557,
          -1.34225,
          -3.12668,
          2.19235
         ],
         "legendgroup": "",
         "lon": [
          97.0253,
          115.12239,
          106.13756,
          102.53598,
          110.3695,
          106.8227,
          122.45559,
          102.7797,
          107.64047,
          110.00441,
          113.98005,
          111.09689,
          115.37565,
          113.29033,
          116.242,
          116.911,
          107.58394,
          104.58037,
          105.0273,
          129.42078,
          127.97202,
          117.63696,
          120.69786,
          138.34853,
          132.90253,
          101.54758,
          119.3919,
          119.94719,
          120.80886,
          121.72796,
          124.09015,
          100.0761,
          104.09306,
          99.38122
         ],
         "marker": {
          "color": "#000001",
          "size": [
           46,
           5,
           23,
           22,
           17,
           5,
           15,
           27,
           92,
           85,
           108,
           24,
           17,
           23,
           22,
           4,
           5,
           17,
           29,
           11,
           10,
           14,
           59,
           78,
           26,
           15,
           13,
           44,
           21,
           39,
           28,
           32,
           46,
           85
          ],
          "sizemode": "area",
          "sizeref": 0.27
         },
         "mode": "markers",
         "name": "",
         "showlegend": false,
         "subplot": "mapbox",
         "type": "scattermapbox"
        }
       ],
       "layout": {
        "legend": {
         "itemsizing": "constant",
         "tracegroupgap": 0
        },
        "mapbox": {
         "center": {
          "lat": -2.8158444117647057,
          "lon": 113.61834794117647
         },
         "domain": {
          "x": [
           0,
           1
          ],
          "y": [
           0,
           1
          ]
         },
         "style": "carto-positron",
         "zoom": 3
        },
        "margin": {
         "t": 60
        },
        "template": {
         "data": {
          "candlestick": [
           {
            "decreasing": {
             "line": {
              "color": "#000033"
             }
            },
            "increasing": {
             "line": {
              "color": "#000032"
             }
            },
            "type": "candlestick"
           }
          ],
          "contour": [
           {
            "colorscale": [
             [
              0,
              "#000011"
             ],
             [
              0.1111111111111111,
              "#000012"
             ],
             [
              0.2222222222222222,
              "#000013"
             ],
             [
              0.3333333333333333,
              "#000014"
             ],
             [
              0.4444444444444444,
              "#000015"
             ],
             [
              0.5555555555555556,
              "#000016"
             ],
             [
              0.6666666666666666,
              "#000017"
             ],
             [
              0.7777777777777778,
              "#000018"
             ],
             [
              0.8888888888888888,
              "#000019"
             ],
             [
              1,
              "#000020"
             ]
            ],
            "type": "contour"
           }
          ],
          "contourcarpet": [
           {
            "colorscale": [
             [
              0,
              "#000011"
             ],
             [
              0.1111111111111111,
              "#000012"
             ],
             [
              0.2222222222222222,
              "#000013"
             ],
             [
              0.3333333333333333,
              "#000014"
             ],
             [
              0.4444444444444444,
              "#000015"
             ],
             [
              0.5555555555555556,
              "#000016"
             ],
             [
              0.6666666666666666,
              "#000017"
             ],
             [
              0.7777777777777778,
              "#000018"
             ],
             [
              0.8888888888888888,
              "#000019"
             ],
             [
              1,
              "#000020"
             ]
            ],
            "type": "contourcarpet"
           }
          ],
          "heatmap": [
           {
            "colorscale": [
             [
              0,
              "#000011"
             ],
             [
              0.1111111111111111,
              "#000012"
             ],
             [
              0.2222222222222222,
              "#000013"
             ],
             [
              0.3333333333333333,
              "#000014"
             ],
             [
              0.4444444444444444,
              "#000015"
             ],
             [
              0.5555555555555556,
              "#000016"
             ],
             [
              0.6666666666666666,
              "#000017"
             ],
             [
              0.7777777777777778,
              "#000018"
             ],
             [
              0.8888888888888888,
              "#000019"
             ],
             [
              1,
              "#000020"
             ]
            ],
            "type": "heatmap"
           }
          ],
          "histogram2d": [
           {
            "colorscale": [
             [
              0,
              "#000011"
             ],
             [
              0.1111111111111111,
              "#000012"
             ],
             [
              0.2222222222222222,
              "#000013"
             ],
             [
              0.3333333333333333,
              "#000014"
             ],
             [
              0.4444444444444444,
              "#000015"
             ],
             [
              0.5555555555555556,
              "#000016"
             ],
             [
              0.6666666666666666,
              "#000017"
             ],
             [
              0.7777777777777778,
              "#000018"
             ],
             [
              0.8888888888888888,
              "#000019"
             ],
             [
              1,
              "#000020"
             ]
            ],
            "type": "histogram2d"
           }
          ],
          "icicle": [
           {
            "textfont": {
             "color": "white"
            },
            "type": "icicle"
           }
          ],
          "sankey": [
           {
            "textfont": {
             "color": "#000036"
            },
            "type": "sankey"
           }
          ],
          "scatter": [
           {
            "marker": {
             "line": {
              "width": 0
             }
            },
            "type": "scatter"
           }
          ],
          "table": [
           {
            "cells": {
             "fill": {
              "color": "#000038"
             },
             "font": {
              "color": "#000037"
             },
             "line": {
              "color": "#000039"
             }
            },
            "header": {
             "fill": {
              "color": "#000040"
             },
             "font": {
              "color": "#000036"
             },
             "line": {
              "color": "#000039"
             }
            },
            "type": "table"
           }
          ],
          "waterfall": [
           {
            "connector": {
             "line": {
              "color": "#000036",
              "width": 2
             }
            },
            "decreasing": {
             "marker": {
              "color": "#000033"
             }
            },
            "increasing": {
             "marker": {
              "color": "#000032"
             }
            },
            "totals": {
             "marker": {
              "color": "#000034"
             }
            },
            "type": "waterfall"
           }
          ]
         },
         "layout": {
          "coloraxis": {
           "colorscale": [
            [
             0,
             "#000011"
            ],
            [
             0.1111111111111111,
             "#000012"
            ],
            [
             0.2222222222222222,
             "#000013"
            ],
            [
             0.3333333333333333,
             "#000014"
            ],
            [
             0.4444444444444444,
             "#000015"
            ],
            [
             0.5555555555555556,
             "#000016"
            ],
            [
             0.6666666666666666,
             "#000017"
            ],
            [
             0.7777777777777778,
             "#000018"
            ],
            [
             0.8888888888888888,
             "#000019"
            ],
            [
             1,
             "#000020"
            ]
           ]
          },
          "colorscale": {
           "diverging": [
            [
             0,
             "#000021"
            ],
            [
             0.1,
             "#000022"
            ],
            [
             0.2,
             "#000023"
            ],
            [
             0.3,
             "#000024"
            ],
            [
             0.4,
             "#000025"
            ],
            [
             0.5,
             "#000026"
            ],
            [
             0.6,
             "#000027"
            ],
            [
             0.7,
             "#000028"
            ],
            [
             0.8,
             "#000029"
            ],
            [
             0.9,
             "#000030"
            ],
            [
             1,
             "#000031"
            ]
           ],
           "sequential": [
            [
             0,
             "#000011"
            ],
            [
             0.1111111111111111,
             "#000012"
            ],
            [
             0.2222222222222222,
             "#000013"
            ],
            [
             0.3333333333333333,
             "#000014"
            ],
            [
             0.4444444444444444,
             "#000015"
            ],
            [
             0.5555555555555556,
             "#000016"
            ],
            [
             0.6666666666666666,
             "#000017"
            ],
            [
             0.7777777777777778,
             "#000018"
            ],
            [
             0.8888888888888888,
             "#000019"
            ],
            [
             1,
             "#000020"
            ]
           ],
           "sequentialminus": [
            [
             0,
             "#000011"
            ],
            [
             0.1111111111111111,
             "#000012"
            ],
            [
             0.2222222222222222,
             "#000013"
            ],
            [
             0.3333333333333333,
             "#000014"
            ],
            [
             0.4444444444444444,
             "#000015"
            ],
            [
             0.5555555555555556,
             "#000016"
            ],
            [
             0.6666666666666666,
             "#000017"
            ],
            [
             0.7777777777777778,
             "#000018"
            ],
            [
             0.8888888888888888,
             "#000019"
            ],
            [
             1,
             "#000020"
            ]
           ]
          },
          "colorway": [
           "#000001",
           "#000002",
           "#000003",
           "#000004",
           "#000005",
           "#000006",
           "#000007",
           "#000008",
           "#000009",
           "#000010"
          ]
         }
        }
       }
      }
     },
     "metadata": {},
     "output_type": "display_data"
    }
   ],
   "source": [
    "# Map Visualization\n",
    "df_map = prov_gender.merge(coord, on='province')\n",
    "\n",
    "# plot: map\n",
    "plot_map = px.scatter_mapbox(data_frame=df_map, lat='latitude', lon='longitude',\n",
    "                             mapbox_style='carto-positron', zoom=3,\n",
    "                             size='Total',\n",
    "                             hover_name='province',\n",
    "                             hover_data={'Male': True,\n",
    "                                         'Female': True,\n",
    "                                         'latitude': False,\n",
    "                                         'longitude': False})\n",
    "\n",
    "plot_map"
   ]
  },
  {
   "cell_type": "markdown",
   "metadata": {},
   "source": [
    "### "
   ]
  },
  {
   "cell_type": "markdown",
   "metadata": {},
   "source": [
    "### Horizontal Bar Plot : Jumlah customer untuk tiap **income level** pada tiap Profesi"
   ]
  },
  {
   "cell_type": "code",
   "execution_count": 29,
   "metadata": {},
   "outputs": [
    {
     "data": {
      "text/html": [
       "<div>\n",
       "<style scoped>\n",
       "    .dataframe tbody tr th:only-of-type {\n",
       "        vertical-align: middle;\n",
       "    }\n",
       "\n",
       "    .dataframe tbody tr th {\n",
       "        vertical-align: top;\n",
       "    }\n",
       "\n",
       "    .dataframe thead th {\n",
       "        text-align: right;\n",
       "    }\n",
       "</style>\n",
       "<table border=\"1\" class=\"dataframe\">\n",
       "  <thead>\n",
       "    <tr style=\"text-align: right;\">\n",
       "      <th></th>\n",
       "      <th>Profession</th>\n",
       "      <th>income_level</th>\n",
       "      <th>num_people</th>\n",
       "    </tr>\n",
       "  </thead>\n",
       "  <tbody>\n",
       "    <tr>\n",
       "      <th>0</th>\n",
       "      <td>Artist</td>\n",
       "      <td>Low Income</td>\n",
       "      <td>89</td>\n",
       "    </tr>\n",
       "    <tr>\n",
       "      <th>1</th>\n",
       "      <td>Doctor</td>\n",
       "      <td>Low Income</td>\n",
       "      <td>22</td>\n",
       "    </tr>\n",
       "    <tr>\n",
       "      <th>2</th>\n",
       "      <td>Engineer</td>\n",
       "      <td>Low Income</td>\n",
       "      <td>18</td>\n",
       "    </tr>\n",
       "    <tr>\n",
       "      <th>3</th>\n",
       "      <td>Entertainment</td>\n",
       "      <td>Low Income</td>\n",
       "      <td>29</td>\n",
       "    </tr>\n",
       "    <tr>\n",
       "      <th>4</th>\n",
       "      <td>Executive</td>\n",
       "      <td>Low Income</td>\n",
       "      <td>23</td>\n",
       "    </tr>\n",
       "    <tr>\n",
       "      <th>5</th>\n",
       "      <td>Healthcare</td>\n",
       "      <td>Low Income</td>\n",
       "      <td>49</td>\n",
       "    </tr>\n",
       "    <tr>\n",
       "      <th>6</th>\n",
       "      <td>Homemaker</td>\n",
       "      <td>Low Income</td>\n",
       "      <td>7</td>\n",
       "    </tr>\n",
       "    <tr>\n",
       "      <th>7</th>\n",
       "      <td>Lawyer</td>\n",
       "      <td>Low Income</td>\n",
       "      <td>23</td>\n",
       "    </tr>\n",
       "    <tr>\n",
       "      <th>8</th>\n",
       "      <td>Marketing</td>\n",
       "      <td>Low Income</td>\n",
       "      <td>15</td>\n",
       "    </tr>\n",
       "    <tr>\n",
       "      <th>9</th>\n",
       "      <td>Not Employed</td>\n",
       "      <td>Low Income</td>\n",
       "      <td>2</td>\n",
       "    </tr>\n",
       "    <tr>\n",
       "      <th>10</th>\n",
       "      <td>Artist</td>\n",
       "      <td>Average Income</td>\n",
       "      <td>184</td>\n",
       "    </tr>\n",
       "    <tr>\n",
       "      <th>11</th>\n",
       "      <td>Doctor</td>\n",
       "      <td>Average Income</td>\n",
       "      <td>37</td>\n",
       "    </tr>\n",
       "    <tr>\n",
       "      <th>12</th>\n",
       "      <td>Engineer</td>\n",
       "      <td>Average Income</td>\n",
       "      <td>50</td>\n",
       "    </tr>\n",
       "    <tr>\n",
       "      <th>13</th>\n",
       "      <td>Entertainment</td>\n",
       "      <td>Average Income</td>\n",
       "      <td>52</td>\n",
       "    </tr>\n",
       "    <tr>\n",
       "      <th>14</th>\n",
       "      <td>Executive</td>\n",
       "      <td>Average Income</td>\n",
       "      <td>43</td>\n",
       "    </tr>\n",
       "    <tr>\n",
       "      <th>15</th>\n",
       "      <td>Healthcare</td>\n",
       "      <td>Average Income</td>\n",
       "      <td>93</td>\n",
       "    </tr>\n",
       "    <tr>\n",
       "      <th>16</th>\n",
       "      <td>Homemaker</td>\n",
       "      <td>Average Income</td>\n",
       "      <td>25</td>\n",
       "    </tr>\n",
       "    <tr>\n",
       "      <th>17</th>\n",
       "      <td>Lawyer</td>\n",
       "      <td>Average Income</td>\n",
       "      <td>36</td>\n",
       "    </tr>\n",
       "    <tr>\n",
       "      <th>18</th>\n",
       "      <td>Marketing</td>\n",
       "      <td>Average Income</td>\n",
       "      <td>21</td>\n",
       "    </tr>\n",
       "    <tr>\n",
       "      <th>19</th>\n",
       "      <td>Not Employed</td>\n",
       "      <td>Average Income</td>\n",
       "      <td>12</td>\n",
       "    </tr>\n",
       "    <tr>\n",
       "      <th>20</th>\n",
       "      <td>Artist</td>\n",
       "      <td>High Income</td>\n",
       "      <td>82</td>\n",
       "    </tr>\n",
       "    <tr>\n",
       "      <th>21</th>\n",
       "      <td>Doctor</td>\n",
       "      <td>High Income</td>\n",
       "      <td>25</td>\n",
       "    </tr>\n",
       "    <tr>\n",
       "      <th>22</th>\n",
       "      <td>Engineer</td>\n",
       "      <td>High Income</td>\n",
       "      <td>25</td>\n",
       "    </tr>\n",
       "    <tr>\n",
       "      <th>23</th>\n",
       "      <td>Entertainment</td>\n",
       "      <td>High Income</td>\n",
       "      <td>33</td>\n",
       "    </tr>\n",
       "    <tr>\n",
       "      <th>24</th>\n",
       "      <td>Executive</td>\n",
       "      <td>High Income</td>\n",
       "      <td>17</td>\n",
       "    </tr>\n",
       "    <tr>\n",
       "      <th>25</th>\n",
       "      <td>Healthcare</td>\n",
       "      <td>High Income</td>\n",
       "      <td>60</td>\n",
       "    </tr>\n",
       "    <tr>\n",
       "      <th>26</th>\n",
       "      <td>Homemaker</td>\n",
       "      <td>High Income</td>\n",
       "      <td>4</td>\n",
       "    </tr>\n",
       "    <tr>\n",
       "      <th>27</th>\n",
       "      <td>Lawyer</td>\n",
       "      <td>High Income</td>\n",
       "      <td>18</td>\n",
       "    </tr>\n",
       "    <tr>\n",
       "      <th>28</th>\n",
       "      <td>Marketing</td>\n",
       "      <td>High Income</td>\n",
       "      <td>10</td>\n",
       "    </tr>\n",
       "    <tr>\n",
       "      <th>29</th>\n",
       "      <td>Not Employed</td>\n",
       "      <td>High Income</td>\n",
       "      <td>3</td>\n",
       "    </tr>\n",
       "  </tbody>\n",
       "</table>\n",
       "</div>"
      ],
      "text/plain": [
       "       Profession    income_level  num_people\n",
       "0          Artist      Low Income          89\n",
       "1          Doctor      Low Income          22\n",
       "2        Engineer      Low Income          18\n",
       "3   Entertainment      Low Income          29\n",
       "4       Executive      Low Income          23\n",
       "5      Healthcare      Low Income          49\n",
       "6       Homemaker      Low Income           7\n",
       "7          Lawyer      Low Income          23\n",
       "8       Marketing      Low Income          15\n",
       "9    Not Employed      Low Income           2\n",
       "10         Artist  Average Income         184\n",
       "11         Doctor  Average Income          37\n",
       "12       Engineer  Average Income          50\n",
       "13  Entertainment  Average Income          52\n",
       "14      Executive  Average Income          43\n",
       "15     Healthcare  Average Income          93\n",
       "16      Homemaker  Average Income          25\n",
       "17         Lawyer  Average Income          36\n",
       "18      Marketing  Average Income          21\n",
       "19   Not Employed  Average Income          12\n",
       "20         Artist     High Income          82\n",
       "21         Doctor     High Income          25\n",
       "22       Engineer     High Income          25\n",
       "23  Entertainment     High Income          33\n",
       "24      Executive     High Income          17\n",
       "25     Healthcare     High Income          60\n",
       "26      Homemaker     High Income           4\n",
       "27         Lawyer     High Income          18\n",
       "28      Marketing     High Income          10\n",
       "29   Not Employed     High Income           3"
      ]
     },
     "execution_count": 29,
     "metadata": {},
     "output_type": "execute_result"
    }
   ],
   "source": [
    "prof_income_level = pd.crosstab(index = customer_clean['Profession'],\n",
    "                                columns = customer_clean['income_level'],\n",
    "                                colnames=[None])\n",
    "\n",
    "prof_income_level_melt = prof_income_level.melt(ignore_index=False,\n",
    "                                                var_name = 'income_level',\n",
    "                                                value_name = 'num_people')\n",
    "\n",
    "prof_income_level_melt = prof_income_level_melt.reset_index()\n",
    "\n",
    "prof_income_level_melt\n"
   ]
  },
  {
   "cell_type": "code",
   "execution_count": 30,
   "metadata": {},
   "outputs": [
    {
     "name": "stderr",
     "output_type": "stream",
     "text": [
      "/Users/mel/miniconda3/envs/dss_nik_lbb/lib/python3.10/site-packages/plotly/express/_core.py:2044: FutureWarning:\n",
      "\n",
      "The default of observed=False is deprecated and will be changed to True in a future version of pandas. Pass observed=False to retain current behavior or observed=True to adopt the future default and silence this warning.\n",
      "\n"
     ]
    },
    {
     "data": {
      "application/vnd.plotly.v1+json": {
       "config": {
        "plotlyServerURL": "https://plot.ly"
       },
       "data": [
        {
         "alignmentgroup": "True",
         "hovertemplate": "Income Level=Low Income<br>Customer Count=%{x}<br>Profession=%{y}<extra></extra>",
         "legendgroup": "Low Income",
         "marker": {
          "color": "#000001",
          "pattern": {
           "shape": ""
          }
         },
         "name": "Low Income",
         "offsetgroup": "Low Income",
         "orientation": "h",
         "showlegend": true,
         "textposition": "auto",
         "type": "bar",
         "x": [
          89,
          22,
          18,
          29,
          23,
          49,
          7,
          23,
          15,
          2
         ],
         "xaxis": "x",
         "y": [
          "Artist",
          "Doctor",
          "Engineer",
          "Entertainment",
          "Executive",
          "Healthcare",
          "Homemaker",
          "Lawyer",
          "Marketing",
          "Not Employed"
         ],
         "yaxis": "y"
        },
        {
         "alignmentgroup": "True",
         "hovertemplate": "Income Level=Average Income<br>Customer Count=%{x}<br>Profession=%{y}<extra></extra>",
         "legendgroup": "Average Income",
         "marker": {
          "color": "#000002",
          "pattern": {
           "shape": ""
          }
         },
         "name": "Average Income",
         "offsetgroup": "Average Income",
         "orientation": "h",
         "showlegend": true,
         "textposition": "auto",
         "type": "bar",
         "x": [
          184,
          37,
          50,
          52,
          43,
          93,
          25,
          36,
          21,
          12
         ],
         "xaxis": "x",
         "y": [
          "Artist",
          "Doctor",
          "Engineer",
          "Entertainment",
          "Executive",
          "Healthcare",
          "Homemaker",
          "Lawyer",
          "Marketing",
          "Not Employed"
         ],
         "yaxis": "y"
        },
        {
         "alignmentgroup": "True",
         "hovertemplate": "Income Level=High Income<br>Customer Count=%{x}<br>Profession=%{y}<extra></extra>",
         "legendgroup": "High Income",
         "marker": {
          "color": "#000003",
          "pattern": {
           "shape": ""
          }
         },
         "name": "High Income",
         "offsetgroup": "High Income",
         "orientation": "h",
         "showlegend": true,
         "textposition": "auto",
         "type": "bar",
         "x": [
          82,
          25,
          25,
          33,
          17,
          60,
          4,
          18,
          10,
          3
         ],
         "xaxis": "x",
         "y": [
          "Artist",
          "Doctor",
          "Engineer",
          "Entertainment",
          "Executive",
          "Healthcare",
          "Homemaker",
          "Lawyer",
          "Marketing",
          "Not Employed"
         ],
         "yaxis": "y"
        }
       ],
       "layout": {
        "barmode": "group",
        "legend": {
         "title": {
          "text": "Income Level"
         },
         "tracegroupgap": 0
        },
        "margin": {
         "t": 60
        },
        "template": {
         "data": {
          "candlestick": [
           {
            "decreasing": {
             "line": {
              "color": "#000033"
             }
            },
            "increasing": {
             "line": {
              "color": "#000032"
             }
            },
            "type": "candlestick"
           }
          ],
          "contour": [
           {
            "colorscale": [
             [
              0,
              "#000011"
             ],
             [
              0.1111111111111111,
              "#000012"
             ],
             [
              0.2222222222222222,
              "#000013"
             ],
             [
              0.3333333333333333,
              "#000014"
             ],
             [
              0.4444444444444444,
              "#000015"
             ],
             [
              0.5555555555555556,
              "#000016"
             ],
             [
              0.6666666666666666,
              "#000017"
             ],
             [
              0.7777777777777778,
              "#000018"
             ],
             [
              0.8888888888888888,
              "#000019"
             ],
             [
              1,
              "#000020"
             ]
            ],
            "type": "contour"
           }
          ],
          "contourcarpet": [
           {
            "colorscale": [
             [
              0,
              "#000011"
             ],
             [
              0.1111111111111111,
              "#000012"
             ],
             [
              0.2222222222222222,
              "#000013"
             ],
             [
              0.3333333333333333,
              "#000014"
             ],
             [
              0.4444444444444444,
              "#000015"
             ],
             [
              0.5555555555555556,
              "#000016"
             ],
             [
              0.6666666666666666,
              "#000017"
             ],
             [
              0.7777777777777778,
              "#000018"
             ],
             [
              0.8888888888888888,
              "#000019"
             ],
             [
              1,
              "#000020"
             ]
            ],
            "type": "contourcarpet"
           }
          ],
          "heatmap": [
           {
            "colorscale": [
             [
              0,
              "#000011"
             ],
             [
              0.1111111111111111,
              "#000012"
             ],
             [
              0.2222222222222222,
              "#000013"
             ],
             [
              0.3333333333333333,
              "#000014"
             ],
             [
              0.4444444444444444,
              "#000015"
             ],
             [
              0.5555555555555556,
              "#000016"
             ],
             [
              0.6666666666666666,
              "#000017"
             ],
             [
              0.7777777777777778,
              "#000018"
             ],
             [
              0.8888888888888888,
              "#000019"
             ],
             [
              1,
              "#000020"
             ]
            ],
            "type": "heatmap"
           }
          ],
          "histogram2d": [
           {
            "colorscale": [
             [
              0,
              "#000011"
             ],
             [
              0.1111111111111111,
              "#000012"
             ],
             [
              0.2222222222222222,
              "#000013"
             ],
             [
              0.3333333333333333,
              "#000014"
             ],
             [
              0.4444444444444444,
              "#000015"
             ],
             [
              0.5555555555555556,
              "#000016"
             ],
             [
              0.6666666666666666,
              "#000017"
             ],
             [
              0.7777777777777778,
              "#000018"
             ],
             [
              0.8888888888888888,
              "#000019"
             ],
             [
              1,
              "#000020"
             ]
            ],
            "type": "histogram2d"
           }
          ],
          "icicle": [
           {
            "textfont": {
             "color": "white"
            },
            "type": "icicle"
           }
          ],
          "sankey": [
           {
            "textfont": {
             "color": "#000036"
            },
            "type": "sankey"
           }
          ],
          "scatter": [
           {
            "marker": {
             "line": {
              "width": 0
             }
            },
            "type": "scatter"
           }
          ],
          "table": [
           {
            "cells": {
             "fill": {
              "color": "#000038"
             },
             "font": {
              "color": "#000037"
             },
             "line": {
              "color": "#000039"
             }
            },
            "header": {
             "fill": {
              "color": "#000040"
             },
             "font": {
              "color": "#000036"
             },
             "line": {
              "color": "#000039"
             }
            },
            "type": "table"
           }
          ],
          "waterfall": [
           {
            "connector": {
             "line": {
              "color": "#000036",
              "width": 2
             }
            },
            "decreasing": {
             "marker": {
              "color": "#000033"
             }
            },
            "increasing": {
             "marker": {
              "color": "#000032"
             }
            },
            "totals": {
             "marker": {
              "color": "#000034"
             }
            },
            "type": "waterfall"
           }
          ]
         },
         "layout": {
          "coloraxis": {
           "colorscale": [
            [
             0,
             "#000011"
            ],
            [
             0.1111111111111111,
             "#000012"
            ],
            [
             0.2222222222222222,
             "#000013"
            ],
            [
             0.3333333333333333,
             "#000014"
            ],
            [
             0.4444444444444444,
             "#000015"
            ],
            [
             0.5555555555555556,
             "#000016"
            ],
            [
             0.6666666666666666,
             "#000017"
            ],
            [
             0.7777777777777778,
             "#000018"
            ],
            [
             0.8888888888888888,
             "#000019"
            ],
            [
             1,
             "#000020"
            ]
           ]
          },
          "colorscale": {
           "diverging": [
            [
             0,
             "#000021"
            ],
            [
             0.1,
             "#000022"
            ],
            [
             0.2,
             "#000023"
            ],
            [
             0.3,
             "#000024"
            ],
            [
             0.4,
             "#000025"
            ],
            [
             0.5,
             "#000026"
            ],
            [
             0.6,
             "#000027"
            ],
            [
             0.7,
             "#000028"
            ],
            [
             0.8,
             "#000029"
            ],
            [
             0.9,
             "#000030"
            ],
            [
             1,
             "#000031"
            ]
           ],
           "sequential": [
            [
             0,
             "#000011"
            ],
            [
             0.1111111111111111,
             "#000012"
            ],
            [
             0.2222222222222222,
             "#000013"
            ],
            [
             0.3333333333333333,
             "#000014"
            ],
            [
             0.4444444444444444,
             "#000015"
            ],
            [
             0.5555555555555556,
             "#000016"
            ],
            [
             0.6666666666666666,
             "#000017"
            ],
            [
             0.7777777777777778,
             "#000018"
            ],
            [
             0.8888888888888888,
             "#000019"
            ],
            [
             1,
             "#000020"
            ]
           ],
           "sequentialminus": [
            [
             0,
             "#000011"
            ],
            [
             0.1111111111111111,
             "#000012"
            ],
            [
             0.2222222222222222,
             "#000013"
            ],
            [
             0.3333333333333333,
             "#000014"
            ],
            [
             0.4444444444444444,
             "#000015"
            ],
            [
             0.5555555555555556,
             "#000016"
            ],
            [
             0.6666666666666666,
             "#000017"
            ],
            [
             0.7777777777777778,
             "#000018"
            ],
            [
             0.8888888888888888,
             "#000019"
            ],
            [
             1,
             "#000020"
            ]
           ]
          },
          "colorway": [
           "#000001",
           "#000002",
           "#000003",
           "#000004",
           "#000005",
           "#000006",
           "#000007",
           "#000008",
           "#000009",
           "#000010"
          ]
         }
        },
        "xaxis": {
         "anchor": "y",
         "domain": [
          0,
          1
         ],
         "title": {
          "text": "Customer Count"
         }
        },
        "yaxis": {
         "anchor": "x",
         "domain": [
          0,
          1
         ],
         "title": {
          "text": "Profession"
         }
        }
       }
      }
     },
     "metadata": {},
     "output_type": "display_data"
    }
   ],
   "source": [
    "plot_prof_income = px.bar(data_frame = prof_income_level_melt,\n",
    "                          x = 'num_people', y = 'Profession',\n",
    "                          color = 'income_level',\n",
    "                          barmode = 'group',\n",
    "                          labels = {'num_people' : 'Customer Count',\n",
    "                                   'income_level' : 'Income Level'}\n",
    "                        )\n",
    "\n",
    "plot_prof_income"
   ]
  },
  {
   "cell_type": "markdown",
   "metadata": {},
   "source": [
    "### Multivariate Plot : Gender per Kategori Level Pembelanjaan, Age 20 sd 55\n"
   ]
  },
  {
   "cell_type": "code",
   "execution_count": 31,
   "metadata": {},
   "outputs": [
    {
     "data": {
      "text/html": [
       "<div>\n",
       "<style scoped>\n",
       "    .dataframe tbody tr th:only-of-type {\n",
       "        vertical-align: middle;\n",
       "    }\n",
       "\n",
       "    .dataframe tbody tr th {\n",
       "        vertical-align: top;\n",
       "    }\n",
       "\n",
       "    .dataframe thead th {\n",
       "        text-align: right;\n",
       "    }\n",
       "</style>\n",
       "<table border=\"1\" class=\"dataframe\">\n",
       "  <thead>\n",
       "    <tr style=\"text-align: right;\">\n",
       "      <th></th>\n",
       "      <th>customer_level</th>\n",
       "      <th>gender</th>\n",
       "      <th>num_people</th>\n",
       "    </tr>\n",
       "  </thead>\n",
       "  <tbody>\n",
       "    <tr>\n",
       "      <th>0</th>\n",
       "      <td>Low Spender</td>\n",
       "      <td>Female</td>\n",
       "      <td>122</td>\n",
       "    </tr>\n",
       "    <tr>\n",
       "      <th>1</th>\n",
       "      <td>Average Spender</td>\n",
       "      <td>Female</td>\n",
       "      <td>237</td>\n",
       "    </tr>\n",
       "    <tr>\n",
       "      <th>2</th>\n",
       "      <td>High Spender</td>\n",
       "      <td>Female</td>\n",
       "      <td>113</td>\n",
       "    </tr>\n",
       "    <tr>\n",
       "      <th>3</th>\n",
       "      <td>Low Spender</td>\n",
       "      <td>Male</td>\n",
       "      <td>76</td>\n",
       "    </tr>\n",
       "    <tr>\n",
       "      <th>4</th>\n",
       "      <td>Average Spender</td>\n",
       "      <td>Male</td>\n",
       "      <td>145</td>\n",
       "    </tr>\n",
       "    <tr>\n",
       "      <th>5</th>\n",
       "      <td>High Spender</td>\n",
       "      <td>Male</td>\n",
       "      <td>77</td>\n",
       "    </tr>\n",
       "  </tbody>\n",
       "</table>\n",
       "</div>"
      ],
      "text/plain": [
       "    customer_level  gender  num_people\n",
       "0      Low Spender  Female         122\n",
       "1  Average Spender  Female         237\n",
       "2     High Spender  Female         113\n",
       "3      Low Spender    Male          76\n",
       "4  Average Spender    Male         145\n",
       "5     High Spender    Male          77"
      ]
     },
     "execution_count": 31,
     "metadata": {},
     "output_type": "execute_result"
    }
   ],
   "source": [
    "# data : multivariate\n",
    "customer_age = customer_clean[customer_clean['age'].between(left = 20, right = 55)]\n",
    "customer_level_gender = pd.crosstab(index = customer_age['customer_level'],\n",
    "                          columns = customer_age['gender'],\n",
    "                          colnames = [None])\n",
    "customer_level_gender_melt = customer_level_gender.melt(ignore_index=False,\n",
    "                                                        var_name = 'gender',\n",
    "                                                        value_name = 'num_people')\n",
    "\n",
    "customer_level_gender_melt = customer_level_gender_melt.reset_index()\n",
    "\n",
    "customer_level_gender_melt"
   ]
  },
  {
   "cell_type": "code",
   "execution_count": 32,
   "metadata": {},
   "outputs": [
    {
     "ename": "NameError",
     "evalue": "name 'prov_income_level' is not defined",
     "output_type": "error",
     "traceback": [
      "\u001b[0;31m---------------------------------------------------------------------------\u001b[0m",
      "\u001b[0;31mNameError\u001b[0m                                 Traceback (most recent call last)",
      "\u001b[1;32m/Users/mel/Desktop/DOK/ALGORITMA/02. Supplement Workshop/2023.11.28-30 - DSS NIK Data Enrichment/DSS_NIK_LBB/dss_nik_lbb.ipynb Cell 52\u001b[0m line \u001b[0;36m2\n\u001b[1;32m      <a href='vscode-notebook-cell:/Users/mel/Desktop/DOK/ALGORITMA/02.%20Supplement%20Workshop/2023.11.28-30%20-%20DSS%20NIK%20Data%20Enrichment/DSS_NIK_LBB/dss_nik_lbb.ipynb#Y102sZmlsZQ%3D%3D?line=0'>1</a>\u001b[0m \u001b[39m# plot : multivariate\u001b[39;00m\n\u001b[0;32m----> <a href='vscode-notebook-cell:/Users/mel/Desktop/DOK/ALGORITMA/02.%20Supplement%20Workshop/2023.11.28-30%20-%20DSS%20NIK%20Data%20Enrichment/DSS_NIK_LBB/dss_nik_lbb.ipynb#Y102sZmlsZQ%3D%3D?line=1'>2</a>\u001b[0m plot_cust_level \u001b[39m=\u001b[39m px\u001b[39m.\u001b[39mbar(data_frame \u001b[39m=\u001b[39m prov_income_level,\n\u001b[1;32m      <a href='vscode-notebook-cell:/Users/mel/Desktop/DOK/ALGORITMA/02.%20Supplement%20Workshop/2023.11.28-30%20-%20DSS%20NIK%20Data%20Enrichment/DSS_NIK_LBB/dss_nik_lbb.ipynb#Y102sZmlsZQ%3D%3D?line=2'>3</a>\u001b[0m                          x \u001b[39m=\u001b[39m \u001b[39m'\u001b[39m\u001b[39mcustomer_level\u001b[39m\u001b[39m'\u001b[39m, y \u001b[39m=\u001b[39m \u001b[39m'\u001b[39m\u001b[39mnum_people\u001b[39m\u001b[39m'\u001b[39m,\n\u001b[1;32m      <a href='vscode-notebook-cell:/Users/mel/Desktop/DOK/ALGORITMA/02.%20Supplement%20Workshop/2023.11.28-30%20-%20DSS%20NIK%20Data%20Enrichment/DSS_NIK_LBB/dss_nik_lbb.ipynb#Y102sZmlsZQ%3D%3D?line=3'>4</a>\u001b[0m                          color \u001b[39m=\u001b[39m \u001b[39m'\u001b[39m\u001b[39mgender\u001b[39m\u001b[39m'\u001b[39m,\n\u001b[1;32m      <a href='vscode-notebook-cell:/Users/mel/Desktop/DOK/ALGORITMA/02.%20Supplement%20Workshop/2023.11.28-30%20-%20DSS%20NIK%20Data%20Enrichment/DSS_NIK_LBB/dss_nik_lbb.ipynb#Y102sZmlsZQ%3D%3D?line=4'>5</a>\u001b[0m                          barmode \u001b[39m=\u001b[39m \u001b[39m'\u001b[39m\u001b[39mgroup\u001b[39m\u001b[39m'\u001b[39m,\n\u001b[1;32m      <a href='vscode-notebook-cell:/Users/mel/Desktop/DOK/ALGORITMA/02.%20Supplement%20Workshop/2023.11.28-30%20-%20DSS%20NIK%20Data%20Enrichment/DSS_NIK_LBB/dss_nik_lbb.ipynb#Y102sZmlsZQ%3D%3D?line=5'>6</a>\u001b[0m                          labels \u001b[39m=\u001b[39m {\u001b[39m'\u001b[39m\u001b[39mnum_people\u001b[39m\u001b[39m'\u001b[39m : \u001b[39m'\u001b[39m\u001b[39mCustomer Count\u001b[39m\u001b[39m'\u001b[39m,\n\u001b[1;32m      <a href='vscode-notebook-cell:/Users/mel/Desktop/DOK/ALGORITMA/02.%20Supplement%20Workshop/2023.11.28-30%20-%20DSS%20NIK%20Data%20Enrichment/DSS_NIK_LBB/dss_nik_lbb.ipynb#Y102sZmlsZQ%3D%3D?line=6'>7</a>\u001b[0m                                    \u001b[39m'\u001b[39m\u001b[39mcustomer_level\u001b[39m\u001b[39m'\u001b[39m : \u001b[39m'\u001b[39m\u001b[39mSpending Level\u001b[39m\u001b[39m'\u001b[39m,\n\u001b[1;32m      <a href='vscode-notebook-cell:/Users/mel/Desktop/DOK/ALGORITMA/02.%20Supplement%20Workshop/2023.11.28-30%20-%20DSS%20NIK%20Data%20Enrichment/DSS_NIK_LBB/dss_nik_lbb.ipynb#Y102sZmlsZQ%3D%3D?line=7'>8</a>\u001b[0m                                    \u001b[39m'\u001b[39m\u001b[39mgender\u001b[39m\u001b[39m'\u001b[39m: \u001b[39m'\u001b[39m\u001b[39mGender\u001b[39m\u001b[39m'\u001b[39m},\n\u001b[1;32m      <a href='vscode-notebook-cell:/Users/mel/Desktop/DOK/ALGORITMA/02.%20Supplement%20Workshop/2023.11.28-30%20-%20DSS%20NIK%20Data%20Enrichment/DSS_NIK_LBB/dss_nik_lbb.ipynb#Y102sZmlsZQ%3D%3D?line=8'>9</a>\u001b[0m                         )\n\u001b[1;32m     <a href='vscode-notebook-cell:/Users/mel/Desktop/DOK/ALGORITMA/02.%20Supplement%20Workshop/2023.11.28-30%20-%20DSS%20NIK%20Data%20Enrichment/DSS_NIK_LBB/dss_nik_lbb.ipynb#Y102sZmlsZQ%3D%3D?line=10'>11</a>\u001b[0m plot_cust_level\n",
      "\u001b[0;31mNameError\u001b[0m: name 'prov_income_level' is not defined"
     ]
    }
   ],
   "source": [
    "# plot : multivariate\n",
    "plot_cust_level = px.bar(data_frame = prov_income_level,\n",
    "                         x = 'customer_level', y = 'num_people',\n",
    "                         color = 'gender',\n",
    "                         barmode = 'group',\n",
    "                         labels = {'num_people' : 'Customer Count',\n",
    "                                   'customer_level' : 'Spending Level',\n",
    "                                   'gender': 'Gender'},\n",
    "                        )\n",
    "\n",
    "plot_cust_level"
   ]
  },
  {
   "cell_type": "code",
   "execution_count": null,
   "metadata": {},
   "outputs": [],
   "source": [
    "spend_gender = pd.crosstab(index = customer_clean['customer_level'],\n",
    "                   columns = customer_clean['gender'],\n",
    "                   colnames=[None])\n",
    "\n",
    "spend_gender['Total'] = spend_gender['Female'] + spend_gender['Male']\n",
    "\n",
    "spend_gender"
   ]
  },
  {
   "cell_type": "markdown",
   "metadata": {},
   "source": [
    "### Barplot: Customer Count per Generation with Profession as Artist"
   ]
  },
  {
   "cell_type": "code",
   "execution_count": null,
   "metadata": {},
   "outputs": [],
   "source": [
    "customer_profession = customer_clean[customer_clean['Profession'] == 'Artist']\n",
    "\n",
    "df_gen = pd.crosstab(index = customer_profession['generation'], \n",
    "                     columns = 'num_people', \n",
    "                     colnames = [None])\n",
    "\n",
    "df_gen = df_gen.reset_index()\n",
    "\n"
   ]
  },
  {
   "cell_type": "code",
   "execution_count": null,
   "metadata": {},
   "outputs": [],
   "source": [
    "# plot: barplot\n",
    "plot_gen = px.bar(df_gen, x='generation', y='num_people', \n",
    "                   labels = {'generation' : 'Generation',\n",
    "                             'num_people' : 'Customer Count'})\n",
    "\n",
    "plot_gen"
   ]
  }
 ],
 "metadata": {
  "kernelspec": {
   "display_name": "dss_nik_lbb",
   "language": "python",
   "name": "python3"
  },
  "language_info": {
   "codemirror_mode": {
    "name": "ipython",
    "version": 3
   },
   "file_extension": ".py",
   "mimetype": "text/x-python",
   "name": "python",
   "nbconvert_exporter": "python",
   "pygments_lexer": "ipython3",
   "version": "3.10.13"
  }
 },
 "nbformat": 4,
 "nbformat_minor": 2
}
